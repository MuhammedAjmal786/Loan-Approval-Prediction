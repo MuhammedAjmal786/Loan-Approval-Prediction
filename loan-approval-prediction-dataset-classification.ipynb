{
 "cells": [
  {
   "cell_type": "markdown",
   "id": "9e1aaeed",
   "metadata": {
    "id": "WH3VVM9e7A-_",
    "papermill": {
     "duration": 0.014609,
     "end_time": "2024-12-07T05:01:17.412634",
     "exception": false,
     "start_time": "2024-12-07T05:01:17.398025",
     "status": "completed"
    },
    "tags": []
   },
   "source": [
    "# **Problem statment**\n",
    "# **Loan Approval Prediction**"
   ]
  },
  {
   "cell_type": "markdown",
   "id": "10664071",
   "metadata": {
    "id": "ZV7XsejN7RI2",
    "papermill": {
     "duration": 0.013258,
     "end_time": "2024-12-07T05:01:17.440846",
     "exception": false,
     "start_time": "2024-12-07T05:01:17.427588",
     "status": "completed"
    },
    "tags": []
   },
   "source": [
    "-- The Dataset is a collection of financial records and associated information used to determine the eligibility of individuals or organizations for obtaining loans from a lending institution.\n",
    "\n",
    "-- The dataset of loan approval based on the given features..\n",
    "\n",
    "-- This dataset have 4269 rows & 13 columns."
   ]
  },
  {
   "cell_type": "markdown",
   "id": "603a3bb6",
   "metadata": {
    "id": "lxysiaxSz39K",
    "papermill": {
     "duration": 0.014632,
     "end_time": "2024-12-07T05:01:17.469315",
     "exception": false,
     "start_time": "2024-12-07T05:01:17.454683",
     "status": "completed"
    },
    "tags": []
   },
   "source": [
    "**Column Heads:**\n",
    "\n",
    "-- **loan_id** : Unique identifier for each loan.\n",
    "\n",
    "-- **no_of_dependents** : Number of dependents of the loan applicant.\n",
    "\n",
    "-- **education** : Educational qualification of the applicant (Graduate or Not Graduate).\n",
    "\n",
    "-- **self_employed** : Employment status of the applicant (Yes or No).\n",
    "\n",
    "-- **income_annum** : Annual income of the applicant (in currency).\n",
    "\n",
    "-- **loan_amount** : Total amount of the loan requested.\n",
    "\n",
    "-- **loan_term** : Duration of the loan (in months).\n",
    "\n",
    "-- **cibil_score** : Credit score of the applicant.\n",
    "\n",
    "-- **residential_assets_value**\n",
    "\n",
    "-- **commercial_assets_value**\n",
    "\n",
    "-- **luxury_assets_value**\n",
    "\n",
    "-- **bank_asset_value**\n",
    "\n",
    "-- **loan_status**: Target variable indicating whether the loan was Approved or Rejected."
   ]
  },
  {
   "cell_type": "markdown",
   "id": "c8ed1cca",
   "metadata": {
    "id": "ABv6xpWiAgF-",
    "papermill": {
     "duration": 0.013269,
     "end_time": "2024-12-07T05:01:17.496182",
     "exception": false,
     "start_time": "2024-12-07T05:01:17.482913",
     "status": "completed"
    },
    "tags": []
   },
   "source": [
    "* **TARGET VARIABLE in this Dtaset is 'loan_status'**"
   ]
  },
  {
   "cell_type": "markdown",
   "id": "41e2cff9",
   "metadata": {
    "id": "KpC-a6oVA-i1",
    "papermill": {
     "duration": 0.013542,
     "end_time": "2024-12-07T05:01:17.523272",
     "exception": false,
     "start_time": "2024-12-07T05:01:17.509730",
     "status": "completed"
    },
    "tags": []
   },
   "source": [
    "**Goals**:\n",
    "\n",
    "* The primary real-life goal of this dataset is to build a model that can accurately predict whether a loan application should be approved or rejected.\n",
    "* **Automate the loan approval process**: By using a model, lenders can significantly reduce the time and effort required to manually assess each application.\n",
    "* **Minimize risk**: The model can identify potentially risky applicants and help lenders avoid losses due to loan defaults.\n",
    "* **Improve efficiency**: Automation allows loan officers to focus on more complex cases and improve overall operational efficiency.\n",
    "* **Enhance customer experience:** Faster loan decisions lead to a better experience for loan applicants.\n",
    "* **Expand access to credit**: By identifying creditworthy individuals who might have been overlooked by traditional methods, the model can potentially increase access to credit for underserved populations.\n",
    "---"
   ]
  },
  {
   "cell_type": "markdown",
   "id": "83f37277",
   "metadata": {
    "id": "Oxjlc_gHBq2F",
    "papermill": {
     "duration": 0.014226,
     "end_time": "2024-12-07T05:01:17.551064",
     "exception": false,
     "start_time": "2024-12-07T05:01:17.536838",
     "status": "completed"
    },
    "tags": []
   },
   "source": [
    "# Libraries"
   ]
  },
  {
   "cell_type": "code",
   "execution_count": 1,
   "id": "d15afe81",
   "metadata": {
    "execution": {
     "iopub.execute_input": "2024-12-07T05:01:17.579997Z",
     "iopub.status.busy": "2024-12-07T05:01:17.579588Z",
     "iopub.status.idle": "2024-12-07T05:01:22.076087Z",
     "shell.execute_reply": "2024-12-07T05:01:22.074636Z"
    },
    "id": "6iSsaOvWA_WN",
    "papermill": {
     "duration": 4.514813,
     "end_time": "2024-12-07T05:01:22.079433",
     "exception": false,
     "start_time": "2024-12-07T05:01:17.564620",
     "status": "completed"
    },
    "tags": []
   },
   "outputs": [],
   "source": [
    "import pandas as pd\n",
    "import numpy as np\n",
    "\n",
    "#Ploating\n",
    "import matplotlib.pyplot as plt\n",
    "import seaborn as sns\n",
    "\n",
    "#Emcoding\n",
    "from sklearn.preprocessing import LabelEncoder\n",
    "le=LabelEncoder()\n",
    "\n",
    "# x-y split\n",
    "from sklearn.model_selection import train_test_split\n",
    "\n",
    "#Scaling\n",
    "from sklearn.preprocessing import StandardScaler\n",
    "\n",
    "# Classification algorithms\n",
    "from sklearn.linear_model import LogisticRegression\n",
    "from sklearn.tree import DecisionTreeClassifier\n",
    "from sklearn.ensemble import RandomForestClassifier, GradientBoostingClassifier, AdaBoostClassifier, ExtraTreesClassifier\n",
    "from xgboost import XGBClassifier\n",
    "from lightgbm import LGBMClassifier\n",
    "# from catboost import CatBoostClassifier\n",
    "from sklearn.svm import SVC\n",
    "from sklearn.neighbors import KNeighborsClassifier\n",
    "from sklearn.naive_bayes import GaussianNB\n",
    "from sklearn.neural_network import MLPClassifier\n",
    "from sklearn.model_selection import StratifiedKFold\n",
    "\n",
    "#MSE AND MAE\n",
    "from sklearn.metrics import mean_absolute_error, mean_squared_error, r2_score\n",
    "from math import sqrt\n",
    "\n",
    "#\n",
    "from sklearn.metrics import classification_report, accuracy_score, precision_score, recall_score, f1_score, roc_auc_score, confusion_matrix"
   ]
  },
  {
   "cell_type": "markdown",
   "id": "a2f6fc91",
   "metadata": {
    "id": "omN_T2qiCQgF",
    "papermill": {
     "duration": 0.014546,
     "end_time": "2024-12-07T05:01:22.116740",
     "exception": false,
     "start_time": "2024-12-07T05:01:22.102194",
     "status": "completed"
    },
    "tags": []
   },
   "source": [
    "# Loading Dataset"
   ]
  },
  {
   "cell_type": "code",
   "execution_count": 2,
   "id": "ebe11b35",
   "metadata": {
    "execution": {
     "iopub.execute_input": "2024-12-07T05:01:22.145528Z",
     "iopub.status.busy": "2024-12-07T05:01:22.144931Z",
     "iopub.status.idle": "2024-12-07T05:01:22.198943Z",
     "shell.execute_reply": "2024-12-07T05:01:22.197814Z"
    },
    "id": "0BDpNwvICGpm",
    "outputId": "87bba24a-87d8-4bc8-920c-80da41b850f8",
    "papermill": {
     "duration": 0.071021,
     "end_time": "2024-12-07T05:01:22.201272",
     "exception": false,
     "start_time": "2024-12-07T05:01:22.130251",
     "status": "completed"
    },
    "tags": []
   },
   "outputs": [
    {
     "data": {
      "text/html": [
       "<div>\n",
       "<style scoped>\n",
       "    .dataframe tbody tr th:only-of-type {\n",
       "        vertical-align: middle;\n",
       "    }\n",
       "\n",
       "    .dataframe tbody tr th {\n",
       "        vertical-align: top;\n",
       "    }\n",
       "\n",
       "    .dataframe thead th {\n",
       "        text-align: right;\n",
       "    }\n",
       "</style>\n",
       "<table border=\"1\" class=\"dataframe\">\n",
       "  <thead>\n",
       "    <tr style=\"text-align: right;\">\n",
       "      <th></th>\n",
       "      <th>loan_id</th>\n",
       "      <th>no_of_dependents</th>\n",
       "      <th>education</th>\n",
       "      <th>self_employed</th>\n",
       "      <th>income_annum</th>\n",
       "      <th>loan_amount</th>\n",
       "      <th>loan_term</th>\n",
       "      <th>cibil_score</th>\n",
       "      <th>residential_assets_value</th>\n",
       "      <th>commercial_assets_value</th>\n",
       "      <th>luxury_assets_value</th>\n",
       "      <th>bank_asset_value</th>\n",
       "      <th>loan_status</th>\n",
       "    </tr>\n",
       "  </thead>\n",
       "  <tbody>\n",
       "    <tr>\n",
       "      <th>0</th>\n",
       "      <td>1</td>\n",
       "      <td>2</td>\n",
       "      <td>Graduate</td>\n",
       "      <td>No</td>\n",
       "      <td>9600000</td>\n",
       "      <td>29900000</td>\n",
       "      <td>12</td>\n",
       "      <td>778</td>\n",
       "      <td>2400000</td>\n",
       "      <td>17600000</td>\n",
       "      <td>22700000</td>\n",
       "      <td>8000000</td>\n",
       "      <td>Approved</td>\n",
       "    </tr>\n",
       "    <tr>\n",
       "      <th>1</th>\n",
       "      <td>2</td>\n",
       "      <td>0</td>\n",
       "      <td>Not Graduate</td>\n",
       "      <td>Yes</td>\n",
       "      <td>4100000</td>\n",
       "      <td>12200000</td>\n",
       "      <td>8</td>\n",
       "      <td>417</td>\n",
       "      <td>2700000</td>\n",
       "      <td>2200000</td>\n",
       "      <td>8800000</td>\n",
       "      <td>3300000</td>\n",
       "      <td>Rejected</td>\n",
       "    </tr>\n",
       "    <tr>\n",
       "      <th>2</th>\n",
       "      <td>3</td>\n",
       "      <td>3</td>\n",
       "      <td>Graduate</td>\n",
       "      <td>No</td>\n",
       "      <td>9100000</td>\n",
       "      <td>29700000</td>\n",
       "      <td>20</td>\n",
       "      <td>506</td>\n",
       "      <td>7100000</td>\n",
       "      <td>4500000</td>\n",
       "      <td>33300000</td>\n",
       "      <td>12800000</td>\n",
       "      <td>Rejected</td>\n",
       "    </tr>\n",
       "    <tr>\n",
       "      <th>3</th>\n",
       "      <td>4</td>\n",
       "      <td>3</td>\n",
       "      <td>Graduate</td>\n",
       "      <td>No</td>\n",
       "      <td>8200000</td>\n",
       "      <td>30700000</td>\n",
       "      <td>8</td>\n",
       "      <td>467</td>\n",
       "      <td>18200000</td>\n",
       "      <td>3300000</td>\n",
       "      <td>23300000</td>\n",
       "      <td>7900000</td>\n",
       "      <td>Rejected</td>\n",
       "    </tr>\n",
       "    <tr>\n",
       "      <th>4</th>\n",
       "      <td>5</td>\n",
       "      <td>5</td>\n",
       "      <td>Not Graduate</td>\n",
       "      <td>Yes</td>\n",
       "      <td>9800000</td>\n",
       "      <td>24200000</td>\n",
       "      <td>20</td>\n",
       "      <td>382</td>\n",
       "      <td>12400000</td>\n",
       "      <td>8200000</td>\n",
       "      <td>29400000</td>\n",
       "      <td>5000000</td>\n",
       "      <td>Rejected</td>\n",
       "    </tr>\n",
       "    <tr>\n",
       "      <th>...</th>\n",
       "      <td>...</td>\n",
       "      <td>...</td>\n",
       "      <td>...</td>\n",
       "      <td>...</td>\n",
       "      <td>...</td>\n",
       "      <td>...</td>\n",
       "      <td>...</td>\n",
       "      <td>...</td>\n",
       "      <td>...</td>\n",
       "      <td>...</td>\n",
       "      <td>...</td>\n",
       "      <td>...</td>\n",
       "      <td>...</td>\n",
       "    </tr>\n",
       "    <tr>\n",
       "      <th>4264</th>\n",
       "      <td>4265</td>\n",
       "      <td>5</td>\n",
       "      <td>Graduate</td>\n",
       "      <td>Yes</td>\n",
       "      <td>1000000</td>\n",
       "      <td>2300000</td>\n",
       "      <td>12</td>\n",
       "      <td>317</td>\n",
       "      <td>2800000</td>\n",
       "      <td>500000</td>\n",
       "      <td>3300000</td>\n",
       "      <td>800000</td>\n",
       "      <td>Rejected</td>\n",
       "    </tr>\n",
       "    <tr>\n",
       "      <th>4265</th>\n",
       "      <td>4266</td>\n",
       "      <td>0</td>\n",
       "      <td>Not Graduate</td>\n",
       "      <td>Yes</td>\n",
       "      <td>3300000</td>\n",
       "      <td>11300000</td>\n",
       "      <td>20</td>\n",
       "      <td>559</td>\n",
       "      <td>4200000</td>\n",
       "      <td>2900000</td>\n",
       "      <td>11000000</td>\n",
       "      <td>1900000</td>\n",
       "      <td>Approved</td>\n",
       "    </tr>\n",
       "    <tr>\n",
       "      <th>4266</th>\n",
       "      <td>4267</td>\n",
       "      <td>2</td>\n",
       "      <td>Not Graduate</td>\n",
       "      <td>No</td>\n",
       "      <td>6500000</td>\n",
       "      <td>23900000</td>\n",
       "      <td>18</td>\n",
       "      <td>457</td>\n",
       "      <td>1200000</td>\n",
       "      <td>12400000</td>\n",
       "      <td>18100000</td>\n",
       "      <td>7300000</td>\n",
       "      <td>Rejected</td>\n",
       "    </tr>\n",
       "    <tr>\n",
       "      <th>4267</th>\n",
       "      <td>4268</td>\n",
       "      <td>1</td>\n",
       "      <td>Not Graduate</td>\n",
       "      <td>No</td>\n",
       "      <td>4100000</td>\n",
       "      <td>12800000</td>\n",
       "      <td>8</td>\n",
       "      <td>780</td>\n",
       "      <td>8200000</td>\n",
       "      <td>700000</td>\n",
       "      <td>14100000</td>\n",
       "      <td>5800000</td>\n",
       "      <td>Approved</td>\n",
       "    </tr>\n",
       "    <tr>\n",
       "      <th>4268</th>\n",
       "      <td>4269</td>\n",
       "      <td>1</td>\n",
       "      <td>Graduate</td>\n",
       "      <td>No</td>\n",
       "      <td>9200000</td>\n",
       "      <td>29700000</td>\n",
       "      <td>10</td>\n",
       "      <td>607</td>\n",
       "      <td>17800000</td>\n",
       "      <td>11800000</td>\n",
       "      <td>35700000</td>\n",
       "      <td>12000000</td>\n",
       "      <td>Approved</td>\n",
       "    </tr>\n",
       "  </tbody>\n",
       "</table>\n",
       "<p>4269 rows × 13 columns</p>\n",
       "</div>"
      ],
      "text/plain": [
       "      loan_id   no_of_dependents      education  self_employed   income_annum  \\\n",
       "0           1                  2       Graduate             No        9600000   \n",
       "1           2                  0   Not Graduate            Yes        4100000   \n",
       "2           3                  3       Graduate             No        9100000   \n",
       "3           4                  3       Graduate             No        8200000   \n",
       "4           5                  5   Not Graduate            Yes        9800000   \n",
       "...       ...                ...            ...            ...            ...   \n",
       "4264     4265                  5       Graduate            Yes        1000000   \n",
       "4265     4266                  0   Not Graduate            Yes        3300000   \n",
       "4266     4267                  2   Not Graduate             No        6500000   \n",
       "4267     4268                  1   Not Graduate             No        4100000   \n",
       "4268     4269                  1       Graduate             No        9200000   \n",
       "\n",
       "       loan_amount   loan_term   cibil_score   residential_assets_value  \\\n",
       "0         29900000          12           778                    2400000   \n",
       "1         12200000           8           417                    2700000   \n",
       "2         29700000          20           506                    7100000   \n",
       "3         30700000           8           467                   18200000   \n",
       "4         24200000          20           382                   12400000   \n",
       "...            ...         ...           ...                        ...   \n",
       "4264       2300000          12           317                    2800000   \n",
       "4265      11300000          20           559                    4200000   \n",
       "4266      23900000          18           457                    1200000   \n",
       "4267      12800000           8           780                    8200000   \n",
       "4268      29700000          10           607                   17800000   \n",
       "\n",
       "       commercial_assets_value   luxury_assets_value   bank_asset_value  \\\n",
       "0                     17600000              22700000            8000000   \n",
       "1                      2200000               8800000            3300000   \n",
       "2                      4500000              33300000           12800000   \n",
       "3                      3300000              23300000            7900000   \n",
       "4                      8200000              29400000            5000000   \n",
       "...                        ...                   ...                ...   \n",
       "4264                    500000               3300000             800000   \n",
       "4265                   2900000              11000000            1900000   \n",
       "4266                  12400000              18100000            7300000   \n",
       "4267                    700000              14100000            5800000   \n",
       "4268                  11800000              35700000           12000000   \n",
       "\n",
       "      loan_status  \n",
       "0        Approved  \n",
       "1        Rejected  \n",
       "2        Rejected  \n",
       "3        Rejected  \n",
       "4        Rejected  \n",
       "...           ...  \n",
       "4264     Rejected  \n",
       "4265     Approved  \n",
       "4266     Rejected  \n",
       "4267     Approved  \n",
       "4268     Approved  \n",
       "\n",
       "[4269 rows x 13 columns]"
      ]
     },
     "execution_count": 2,
     "metadata": {},
     "output_type": "execute_result"
    }
   ],
   "source": [
    "df=pd.read_csv('/kaggle/input/loan-approval-prediction-dataset/loan_approval_dataset.csv')\n",
    "df"
   ]
  },
  {
   "cell_type": "markdown",
   "id": "7d878e77",
   "metadata": {
    "id": "EXe5a1SlC53d",
    "papermill": {
     "duration": 0.013784,
     "end_time": "2024-12-07T05:01:22.229532",
     "exception": false,
     "start_time": "2024-12-07T05:01:22.215748",
     "status": "completed"
    },
    "tags": []
   },
   "source": [
    "# ***Understanding the data***"
   ]
  },
  {
   "cell_type": "code",
   "execution_count": 3,
   "id": "1145cb0f",
   "metadata": {
    "execution": {
     "iopub.execute_input": "2024-12-07T05:01:22.260333Z",
     "iopub.status.busy": "2024-12-07T05:01:22.259512Z",
     "iopub.status.idle": "2024-12-07T05:01:22.285427Z",
     "shell.execute_reply": "2024-12-07T05:01:22.284397Z"
    },
    "id": "xoxjgg9ZCjD2",
    "outputId": "4ca945e9-0133-4c7e-98d2-fdbabf0da99b",
    "papermill": {
     "duration": 0.045097,
     "end_time": "2024-12-07T05:01:22.288666",
     "exception": false,
     "start_time": "2024-12-07T05:01:22.243569",
     "status": "completed"
    },
    "tags": []
   },
   "outputs": [
    {
     "name": "stdout",
     "output_type": "stream",
     "text": [
      "<class 'pandas.core.frame.DataFrame'>\n",
      "RangeIndex: 4269 entries, 0 to 4268\n",
      "Data columns (total 13 columns):\n",
      " #   Column                     Non-Null Count  Dtype \n",
      "---  ------                     --------------  ----- \n",
      " 0   loan_id                    4269 non-null   int64 \n",
      " 1    no_of_dependents          4269 non-null   int64 \n",
      " 2    education                 4269 non-null   object\n",
      " 3    self_employed             4269 non-null   object\n",
      " 4    income_annum              4269 non-null   int64 \n",
      " 5    loan_amount               4269 non-null   int64 \n",
      " 6    loan_term                 4269 non-null   int64 \n",
      " 7    cibil_score               4269 non-null   int64 \n",
      " 8    residential_assets_value  4269 non-null   int64 \n",
      " 9    commercial_assets_value   4269 non-null   int64 \n",
      " 10   luxury_assets_value       4269 non-null   int64 \n",
      " 11   bank_asset_value          4269 non-null   int64 \n",
      " 12   loan_status               4269 non-null   object\n",
      "dtypes: int64(10), object(3)\n",
      "memory usage: 433.7+ KB\n"
     ]
    }
   ],
   "source": [
    "df.info()"
   ]
  },
  {
   "cell_type": "markdown",
   "id": "d0f13834",
   "metadata": {
    "id": "TFqjP5Tixjzc",
    "papermill": {
     "duration": 0.01387,
     "end_time": "2024-12-07T05:01:22.325851",
     "exception": false,
     "start_time": "2024-12-07T05:01:22.311981",
     "status": "completed"
    },
    "tags": []
   },
   "source": [
    "Columns education,self_employed & loan_status are object variables.\n",
    "And other variables are numerical variables"
   ]
  },
  {
   "cell_type": "code",
   "execution_count": 4,
   "id": "b401b279",
   "metadata": {
    "execution": {
     "iopub.execute_input": "2024-12-07T05:01:22.356242Z",
     "iopub.status.busy": "2024-12-07T05:01:22.355558Z",
     "iopub.status.idle": "2024-12-07T05:01:22.362620Z",
     "shell.execute_reply": "2024-12-07T05:01:22.361404Z"
    },
    "id": "JT9MQh5hNwit",
    "outputId": "39741340-3a12-4251-84c7-427005de8509",
    "papermill": {
     "duration": 0.025687,
     "end_time": "2024-12-07T05:01:22.365732",
     "exception": false,
     "start_time": "2024-12-07T05:01:22.340045",
     "status": "completed"
    },
    "tags": []
   },
   "outputs": [
    {
     "data": {
      "text/plain": [
       "(4269, 13)"
      ]
     },
     "execution_count": 4,
     "metadata": {},
     "output_type": "execute_result"
    }
   ],
   "source": [
    "df.shape"
   ]
  },
  {
   "cell_type": "markdown",
   "id": "ae1c69a0",
   "metadata": {
    "id": "1eMdOFkbMVZa",
    "papermill": {
     "duration": 0.01597,
     "end_time": "2024-12-07T05:01:22.398661",
     "exception": false,
     "start_time": "2024-12-07T05:01:22.382691",
     "status": "completed"
    },
    "tags": []
   },
   "source": [
    "This dataset have 4269 rows & 13 columns"
   ]
  },
  {
   "cell_type": "code",
   "execution_count": 5,
   "id": "771c4787",
   "metadata": {
    "execution": {
     "iopub.execute_input": "2024-12-07T05:01:22.434003Z",
     "iopub.status.busy": "2024-12-07T05:01:22.433568Z",
     "iopub.status.idle": "2024-12-07T05:01:22.441570Z",
     "shell.execute_reply": "2024-12-07T05:01:22.440106Z"
    },
    "id": "wq6Mr96UO9Dt",
    "outputId": "c3dab14f-6ef7-4673-865a-53128f92bb15",
    "papermill": {
     "duration": 0.028754,
     "end_time": "2024-12-07T05:01:22.444459",
     "exception": false,
     "start_time": "2024-12-07T05:01:22.415705",
     "status": "completed"
    },
    "tags": []
   },
   "outputs": [
    {
     "data": {
      "text/plain": [
       "Index(['loan_id', ' no_of_dependents', ' education', ' self_employed',\n",
       "       ' income_annum', ' loan_amount', ' loan_term', ' cibil_score',\n",
       "       ' residential_assets_value', ' commercial_assets_value',\n",
       "       ' luxury_assets_value', ' bank_asset_value', ' loan_status'],\n",
       "      dtype='object')"
      ]
     },
     "execution_count": 5,
     "metadata": {},
     "output_type": "execute_result"
    }
   ],
   "source": [
    "df.columns"
   ]
  },
  {
   "cell_type": "code",
   "execution_count": 6,
   "id": "5c2f4a29",
   "metadata": {
    "execution": {
     "iopub.execute_input": "2024-12-07T05:01:22.479356Z",
     "iopub.status.busy": "2024-12-07T05:01:22.478465Z",
     "iopub.status.idle": "2024-12-07T05:01:22.522335Z",
     "shell.execute_reply": "2024-12-07T05:01:22.521121Z"
    },
    "id": "-DAzE0EWMfkl",
    "outputId": "27ecd4af-d26c-4ed4-d518-cb96543eda8b",
    "papermill": {
     "duration": 0.063997,
     "end_time": "2024-12-07T05:01:22.525108",
     "exception": false,
     "start_time": "2024-12-07T05:01:22.461111",
     "status": "completed"
    },
    "tags": []
   },
   "outputs": [
    {
     "data": {
      "text/html": [
       "<div>\n",
       "<style scoped>\n",
       "    .dataframe tbody tr th:only-of-type {\n",
       "        vertical-align: middle;\n",
       "    }\n",
       "\n",
       "    .dataframe tbody tr th {\n",
       "        vertical-align: top;\n",
       "    }\n",
       "\n",
       "    .dataframe thead th {\n",
       "        text-align: right;\n",
       "    }\n",
       "</style>\n",
       "<table border=\"1\" class=\"dataframe\">\n",
       "  <thead>\n",
       "    <tr style=\"text-align: right;\">\n",
       "      <th></th>\n",
       "      <th>count</th>\n",
       "      <th>mean</th>\n",
       "      <th>std</th>\n",
       "      <th>min</th>\n",
       "      <th>25%</th>\n",
       "      <th>50%</th>\n",
       "      <th>75%</th>\n",
       "      <th>max</th>\n",
       "    </tr>\n",
       "  </thead>\n",
       "  <tbody>\n",
       "    <tr>\n",
       "      <th>loan_id</th>\n",
       "      <td>4269.0</td>\n",
       "      <td>2.135000e+03</td>\n",
       "      <td>1.232498e+03</td>\n",
       "      <td>1.0</td>\n",
       "      <td>1068.0</td>\n",
       "      <td>2135.0</td>\n",
       "      <td>3202.0</td>\n",
       "      <td>4269.0</td>\n",
       "    </tr>\n",
       "    <tr>\n",
       "      <th>no_of_dependents</th>\n",
       "      <td>4269.0</td>\n",
       "      <td>2.498712e+00</td>\n",
       "      <td>1.695910e+00</td>\n",
       "      <td>0.0</td>\n",
       "      <td>1.0</td>\n",
       "      <td>3.0</td>\n",
       "      <td>4.0</td>\n",
       "      <td>5.0</td>\n",
       "    </tr>\n",
       "    <tr>\n",
       "      <th>income_annum</th>\n",
       "      <td>4269.0</td>\n",
       "      <td>5.059124e+06</td>\n",
       "      <td>2.806840e+06</td>\n",
       "      <td>200000.0</td>\n",
       "      <td>2700000.0</td>\n",
       "      <td>5100000.0</td>\n",
       "      <td>7500000.0</td>\n",
       "      <td>9900000.0</td>\n",
       "    </tr>\n",
       "    <tr>\n",
       "      <th>loan_amount</th>\n",
       "      <td>4269.0</td>\n",
       "      <td>1.513345e+07</td>\n",
       "      <td>9.043363e+06</td>\n",
       "      <td>300000.0</td>\n",
       "      <td>7700000.0</td>\n",
       "      <td>14500000.0</td>\n",
       "      <td>21500000.0</td>\n",
       "      <td>39500000.0</td>\n",
       "    </tr>\n",
       "    <tr>\n",
       "      <th>loan_term</th>\n",
       "      <td>4269.0</td>\n",
       "      <td>1.090045e+01</td>\n",
       "      <td>5.709187e+00</td>\n",
       "      <td>2.0</td>\n",
       "      <td>6.0</td>\n",
       "      <td>10.0</td>\n",
       "      <td>16.0</td>\n",
       "      <td>20.0</td>\n",
       "    </tr>\n",
       "    <tr>\n",
       "      <th>cibil_score</th>\n",
       "      <td>4269.0</td>\n",
       "      <td>5.999361e+02</td>\n",
       "      <td>1.724304e+02</td>\n",
       "      <td>300.0</td>\n",
       "      <td>453.0</td>\n",
       "      <td>600.0</td>\n",
       "      <td>748.0</td>\n",
       "      <td>900.0</td>\n",
       "    </tr>\n",
       "    <tr>\n",
       "      <th>residential_assets_value</th>\n",
       "      <td>4269.0</td>\n",
       "      <td>7.472617e+06</td>\n",
       "      <td>6.503637e+06</td>\n",
       "      <td>-100000.0</td>\n",
       "      <td>2200000.0</td>\n",
       "      <td>5600000.0</td>\n",
       "      <td>11300000.0</td>\n",
       "      <td>29100000.0</td>\n",
       "    </tr>\n",
       "    <tr>\n",
       "      <th>commercial_assets_value</th>\n",
       "      <td>4269.0</td>\n",
       "      <td>4.973155e+06</td>\n",
       "      <td>4.388966e+06</td>\n",
       "      <td>0.0</td>\n",
       "      <td>1300000.0</td>\n",
       "      <td>3700000.0</td>\n",
       "      <td>7600000.0</td>\n",
       "      <td>19400000.0</td>\n",
       "    </tr>\n",
       "    <tr>\n",
       "      <th>luxury_assets_value</th>\n",
       "      <td>4269.0</td>\n",
       "      <td>1.512631e+07</td>\n",
       "      <td>9.103754e+06</td>\n",
       "      <td>300000.0</td>\n",
       "      <td>7500000.0</td>\n",
       "      <td>14600000.0</td>\n",
       "      <td>21700000.0</td>\n",
       "      <td>39200000.0</td>\n",
       "    </tr>\n",
       "    <tr>\n",
       "      <th>bank_asset_value</th>\n",
       "      <td>4269.0</td>\n",
       "      <td>4.976692e+06</td>\n",
       "      <td>3.250185e+06</td>\n",
       "      <td>0.0</td>\n",
       "      <td>2300000.0</td>\n",
       "      <td>4600000.0</td>\n",
       "      <td>7100000.0</td>\n",
       "      <td>14700000.0</td>\n",
       "    </tr>\n",
       "  </tbody>\n",
       "</table>\n",
       "</div>"
      ],
      "text/plain": [
       "                            count          mean           std       min  \\\n",
       "loan_id                    4269.0  2.135000e+03  1.232498e+03       1.0   \n",
       " no_of_dependents          4269.0  2.498712e+00  1.695910e+00       0.0   \n",
       " income_annum              4269.0  5.059124e+06  2.806840e+06  200000.0   \n",
       " loan_amount               4269.0  1.513345e+07  9.043363e+06  300000.0   \n",
       " loan_term                 4269.0  1.090045e+01  5.709187e+00       2.0   \n",
       " cibil_score               4269.0  5.999361e+02  1.724304e+02     300.0   \n",
       " residential_assets_value  4269.0  7.472617e+06  6.503637e+06 -100000.0   \n",
       " commercial_assets_value   4269.0  4.973155e+06  4.388966e+06       0.0   \n",
       " luxury_assets_value       4269.0  1.512631e+07  9.103754e+06  300000.0   \n",
       " bank_asset_value          4269.0  4.976692e+06  3.250185e+06       0.0   \n",
       "\n",
       "                                 25%         50%         75%         max  \n",
       "loan_id                       1068.0      2135.0      3202.0      4269.0  \n",
       " no_of_dependents                1.0         3.0         4.0         5.0  \n",
       " income_annum              2700000.0   5100000.0   7500000.0   9900000.0  \n",
       " loan_amount               7700000.0  14500000.0  21500000.0  39500000.0  \n",
       " loan_term                       6.0        10.0        16.0        20.0  \n",
       " cibil_score                   453.0       600.0       748.0       900.0  \n",
       " residential_assets_value  2200000.0   5600000.0  11300000.0  29100000.0  \n",
       " commercial_assets_value   1300000.0   3700000.0   7600000.0  19400000.0  \n",
       " luxury_assets_value       7500000.0  14600000.0  21700000.0  39200000.0  \n",
       " bank_asset_value          2300000.0   4600000.0   7100000.0  14700000.0  "
      ]
     },
     "execution_count": 6,
     "metadata": {},
     "output_type": "execute_result"
    }
   ],
   "source": [
    "df.describe().T"
   ]
  },
  {
   "cell_type": "code",
   "execution_count": 7,
   "id": "05eee5a5",
   "metadata": {
    "execution": {
     "iopub.execute_input": "2024-12-07T05:01:22.561082Z",
     "iopub.status.busy": "2024-12-07T05:01:22.560010Z",
     "iopub.status.idle": "2024-12-07T05:01:22.571901Z",
     "shell.execute_reply": "2024-12-07T05:01:22.570520Z"
    },
    "id": "FFujcB3pMhRl",
    "outputId": "926547c7-c8c0-4a28-cd7d-2205874f88de",
    "papermill": {
     "duration": 0.032756,
     "end_time": "2024-12-07T05:01:22.574285",
     "exception": false,
     "start_time": "2024-12-07T05:01:22.541529",
     "status": "completed"
    },
    "tags": []
   },
   "outputs": [
    {
     "data": {
      "text/plain": [
       "loan_id                      0\n",
       " no_of_dependents            0\n",
       " education                   0\n",
       " self_employed               0\n",
       " income_annum                0\n",
       " loan_amount                 0\n",
       " loan_term                   0\n",
       " cibil_score                 0\n",
       " residential_assets_value    0\n",
       " commercial_assets_value     0\n",
       " luxury_assets_value         0\n",
       " bank_asset_value            0\n",
       " loan_status                 0\n",
       "dtype: int64"
      ]
     },
     "execution_count": 7,
     "metadata": {},
     "output_type": "execute_result"
    }
   ],
   "source": [
    "df.isnull().sum()"
   ]
  },
  {
   "cell_type": "markdown",
   "id": "9659beb5",
   "metadata": {
    "id": "ozbybcuQM7ld",
    "papermill": {
     "duration": 0.016154,
     "end_time": "2024-12-07T05:01:22.608076",
     "exception": false,
     "start_time": "2024-12-07T05:01:22.591922",
     "status": "completed"
    },
    "tags": []
   },
   "source": [
    "There is no Null values(Missing values) in the Dataset"
   ]
  },
  {
   "cell_type": "code",
   "execution_count": 8,
   "id": "6d729c27",
   "metadata": {
    "execution": {
     "iopub.execute_input": "2024-12-07T05:01:22.642535Z",
     "iopub.status.busy": "2024-12-07T05:01:22.642109Z",
     "iopub.status.idle": "2024-12-07T05:01:22.661632Z",
     "shell.execute_reply": "2024-12-07T05:01:22.657566Z"
    },
    "id": "3hVHpw27Mv0N",
    "outputId": "90a45065-03d7-4c1d-e53f-705ca906ef89",
    "papermill": {
     "duration": 0.041383,
     "end_time": "2024-12-07T05:01:22.665840",
     "exception": false,
     "start_time": "2024-12-07T05:01:22.624457",
     "status": "completed"
    },
    "tags": []
   },
   "outputs": [
    {
     "data": {
      "text/plain": [
       "0"
      ]
     },
     "execution_count": 8,
     "metadata": {},
     "output_type": "execute_result"
    }
   ],
   "source": [
    "df.duplicated().sum()"
   ]
  },
  {
   "cell_type": "markdown",
   "id": "d5836c4f",
   "metadata": {
    "id": "APlV1kbUNJBN",
    "papermill": {
     "duration": 0.01607,
     "end_time": "2024-12-07T05:01:22.700698",
     "exception": false,
     "start_time": "2024-12-07T05:01:22.684628",
     "status": "completed"
    },
    "tags": []
   },
   "source": [
    "There is no Duplicated rows in the Dataset"
   ]
  },
  {
   "cell_type": "markdown",
   "id": "0822358c",
   "metadata": {
    "id": "tTrYjCoG0XaD",
    "papermill": {
     "duration": 0.016028,
     "end_time": "2024-12-07T05:01:22.732857",
     "exception": false,
     "start_time": "2024-12-07T05:01:22.716829",
     "status": "completed"
    },
    "tags": []
   },
   "source": [
    "# Data Cleaning"
   ]
  },
  {
   "cell_type": "code",
   "execution_count": 9,
   "id": "c384c1e8",
   "metadata": {
    "execution": {
     "iopub.execute_input": "2024-12-07T05:01:22.769325Z",
     "iopub.status.busy": "2024-12-07T05:01:22.768928Z",
     "iopub.status.idle": "2024-12-07T05:01:22.775331Z",
     "shell.execute_reply": "2024-12-07T05:01:22.774206Z"
    },
    "id": "quhVkzdOCqsc",
    "papermill": {
     "duration": 0.026598,
     "end_time": "2024-12-07T05:01:22.777630",
     "exception": false,
     "start_time": "2024-12-07T05:01:22.751032",
     "status": "completed"
    },
    "tags": []
   },
   "outputs": [],
   "source": [
    "# Coping df into df1\n",
    "df1=df.copy()"
   ]
  },
  {
   "cell_type": "code",
   "execution_count": 10,
   "id": "056a6c6c",
   "metadata": {
    "execution": {
     "iopub.execute_input": "2024-12-07T05:01:22.810280Z",
     "iopub.status.busy": "2024-12-07T05:01:22.809928Z",
     "iopub.status.idle": "2024-12-07T05:01:22.817430Z",
     "shell.execute_reply": "2024-12-07T05:01:22.816336Z"
    },
    "id": "Io0DqdmF0Zrz",
    "papermill": {
     "duration": 0.026536,
     "end_time": "2024-12-07T05:01:22.819627",
     "exception": false,
     "start_time": "2024-12-07T05:01:22.793091",
     "status": "completed"
    },
    "tags": []
   },
   "outputs": [],
   "source": [
    "# Dropping Column 'loan_id'\n",
    "df1=df1.drop('loan_id',axis=1)"
   ]
  },
  {
   "cell_type": "markdown",
   "id": "bad157d8",
   "metadata": {
    "id": "KlVv-AwT0hhU",
    "papermill": {
     "duration": 0.014514,
     "end_time": "2024-12-07T05:01:22.849036",
     "exception": false,
     "start_time": "2024-12-07T05:01:22.834522",
     "status": "completed"
    },
    "tags": []
   },
   "source": [
    "# Data visualization"
   ]
  },
  {
   "cell_type": "code",
   "execution_count": 11,
   "id": "8525a027",
   "metadata": {
    "execution": {
     "iopub.execute_input": "2024-12-07T05:01:22.880652Z",
     "iopub.status.busy": "2024-12-07T05:01:22.880205Z",
     "iopub.status.idle": "2024-12-07T05:01:24.656145Z",
     "shell.execute_reply": "2024-12-07T05:01:24.654874Z"
    },
    "id": "d92xGCPL0j_s",
    "outputId": "903501ab-9309-4dfe-d439-83f459bca384",
    "papermill": {
     "duration": 1.794636,
     "end_time": "2024-12-07T05:01:24.658816",
     "exception": false,
     "start_time": "2024-12-07T05:01:22.864180",
     "status": "completed"
    },
    "tags": []
   },
   "outputs": [
    {
     "data": {
      "image/png": "[encoded data removed]",
      "text/plain": [
       "<Figure size 1500x1500 with 9 Axes>"
      ]
     },
     "metadata": {},
     "output_type": "display_data"
    }
   ],
   "source": [
    "df1.hist(figsize=(15,15))\n",
    "plt.show()"
   ]
  },
  {
   "cell_type": "code",
   "execution_count": 12,
   "id": "f6f6bfb4",
   "metadata": {
    "execution": {
     "iopub.execute_input": "2024-12-07T05:01:24.696348Z",
     "iopub.status.busy": "2024-12-07T05:01:24.695938Z",
     "iopub.status.idle": "2024-12-07T05:01:24.703421Z",
     "shell.execute_reply": "2024-12-07T05:01:24.702307Z"
    },
    "id": "aqmn2V4s0q82",
    "outputId": "cf7c5ad3-b331-4b96-8e70-65e4843b87a7",
    "papermill": {
     "duration": 0.027878,
     "end_time": "2024-12-07T05:01:24.705636",
     "exception": false,
     "start_time": "2024-12-07T05:01:24.677758",
     "status": "completed"
    },
    "tags": []
   },
   "outputs": [
    {
     "data": {
      "text/plain": [
       "Index([' no_of_dependents', ' education', ' self_employed', ' income_annum',\n",
       "       ' loan_amount', ' loan_term', ' cibil_score',\n",
       "       ' residential_assets_value', ' commercial_assets_value',\n",
       "       ' luxury_assets_value', ' bank_asset_value', ' loan_status'],\n",
       "      dtype='object')"
      ]
     },
     "execution_count": 12,
     "metadata": {},
     "output_type": "execute_result"
    }
   ],
   "source": [
    "df1.columns"
   ]
  },
  {
   "cell_type": "markdown",
   "id": "b559d157",
   "metadata": {
    "id": "6eZXLD-R0upY",
    "papermill": {
     "duration": 0.018882,
     "end_time": "2024-12-07T05:01:24.741737",
     "exception": false,
     "start_time": "2024-12-07T05:01:24.722855",
     "status": "completed"
    },
    "tags": []
   },
   "source": [
    "loan_status"
   ]
  },
  {
   "cell_type": "code",
   "execution_count": 13,
   "id": "d9613a0e",
   "metadata": {
    "execution": {
     "iopub.execute_input": "2024-12-07T05:01:24.779964Z",
     "iopub.status.busy": "2024-12-07T05:01:24.779538Z",
     "iopub.status.idle": "2024-12-07T05:01:24.944441Z",
     "shell.execute_reply": "2024-12-07T05:01:24.943156Z"
    },
    "id": "A6_ElTBD0sPO",
    "outputId": "446f1fa5-5ca9-4549-f50e-edb4d5f281e7",
    "papermill": {
     "duration": 0.187233,
     "end_time": "2024-12-07T05:01:24.948092",
     "exception": false,
     "start_time": "2024-12-07T05:01:24.760859",
     "status": "completed"
    },
    "tags": []
   },
   "outputs": [
    {
     "data": {
      "image/png": "[encoded data removed]",
      "text/plain": [
       "<Figure size 640x480 with 1 Axes>"
      ]
     },
     "metadata": {},
     "output_type": "display_data"
    }
   ],
   "source": [
    "plt.pie(df1[' loan_status'].value_counts(),labels=df1[' loan_status'].value_counts().index,colors=['grey','g'],autopct='%1.2f%%')\n",
    "plt.legend(df1[' loan_status'].unique())\n",
    "plt.title('Pie chart of loan_status')\n",
    "plt.show()"
   ]
  },
  {
   "cell_type": "markdown",
   "id": "71424345",
   "metadata": {
    "id": "9kleEo_E0ytO",
    "papermill": {
     "duration": 0.025118,
     "end_time": "2024-12-07T05:01:25.007127",
     "exception": false,
     "start_time": "2024-12-07T05:01:24.982009",
     "status": "completed"
    },
    "tags": []
   },
   "source": [
    "education"
   ]
  },
  {
   "cell_type": "code",
   "execution_count": 14,
   "id": "e250a379",
   "metadata": {
    "execution": {
     "iopub.execute_input": "2024-12-07T05:01:25.051832Z",
     "iopub.status.busy": "2024-12-07T05:01:25.051318Z",
     "iopub.status.idle": "2024-12-07T05:01:25.190904Z",
     "shell.execute_reply": "2024-12-07T05:01:25.189850Z"
    },
    "id": "Gp0E64nt036e",
    "outputId": "1b4bf9d3-148b-4010-aee6-7654266e5534",
    "papermill": {
     "duration": 0.166784,
     "end_time": "2024-12-07T05:01:25.193969",
     "exception": false,
     "start_time": "2024-12-07T05:01:25.027185",
     "status": "completed"
    },
    "tags": []
   },
   "outputs": [
    {
     "data": {
      "image/png": "[encoded data removed]",
      "text/plain": [
       "<Figure size 640x480 with 1 Axes>"
      ]
     },
     "metadata": {},
     "output_type": "display_data"
    }
   ],
   "source": [
    "plt.pie(df1[' education'].value_counts(),labels=df1[' education'].value_counts().index,colors=['grey','g'],autopct='%1.2f%%')\n",
    "plt.legend(df1[' education'].unique())\n",
    "plt.title('Pie chart of education')\n",
    "plt.show()"
   ]
  },
  {
   "cell_type": "markdown",
   "id": "05ebca20",
   "metadata": {
    "id": "xj7-Ltj61KQh",
    "papermill": {
     "duration": 0.034102,
     "end_time": "2024-12-07T05:01:25.261397",
     "exception": false,
     "start_time": "2024-12-07T05:01:25.227295",
     "status": "completed"
    },
    "tags": []
   },
   "source": [
    "self_employed"
   ]
  },
  {
   "cell_type": "code",
   "execution_count": 15,
   "id": "bd6a202d",
   "metadata": {
    "execution": {
     "iopub.execute_input": "2024-12-07T05:01:25.303636Z",
     "iopub.status.busy": "2024-12-07T05:01:25.303208Z",
     "iopub.status.idle": "2024-12-07T05:01:25.422896Z",
     "shell.execute_reply": "2024-12-07T05:01:25.421701Z"
    },
    "id": "LGdR96FV1Kix",
    "outputId": "6b8f5b99-2180-42f3-bb09-51bf3fee6428",
    "papermill": {
     "duration": 0.141119,
     "end_time": "2024-12-07T05:01:25.425216",
     "exception": false,
     "start_time": "2024-12-07T05:01:25.284097",
     "status": "completed"
    },
    "tags": []
   },
   "outputs": [
    {
     "data": {
      "image/png": "[encoded data removed]",
      "text/plain": [
       "<Figure size 640x480 with 1 Axes>"
      ]
     },
     "metadata": {},
     "output_type": "display_data"
    }
   ],
   "source": [
    "plt.pie(df1[' self_employed'].value_counts(),labels=df1[' self_employed'].value_counts().index,colors=['grey','g'],autopct='%1.2f%%')\n",
    "plt.legend(df1[' self_employed'].unique())\n",
    "plt.title('Pie chart of self_employed')\n",
    "plt.show()"
   ]
  },
  {
   "cell_type": "markdown",
   "id": "1aa4a6bc",
   "metadata": {
    "id": "oXRvRuTR1RFi",
    "papermill": {
     "duration": 0.019817,
     "end_time": "2024-12-07T05:01:25.464920",
     "exception": false,
     "start_time": "2024-12-07T05:01:25.445103",
     "status": "completed"
    },
    "tags": []
   },
   "source": [
    "no_of_dependents"
   ]
  },
  {
   "cell_type": "code",
   "execution_count": 16,
   "id": "6a8b8611",
   "metadata": {
    "execution": {
     "iopub.execute_input": "2024-12-07T05:01:25.503713Z",
     "iopub.status.busy": "2024-12-07T05:01:25.503298Z",
     "iopub.status.idle": "2024-12-07T05:01:25.706460Z",
     "shell.execute_reply": "2024-12-07T05:01:25.705251Z"
    },
    "id": "B2nWdC1y1Ray",
    "outputId": "6304817c-7c56-414a-d09a-97514eaaa1c7",
    "papermill": {
     "duration": 0.226239,
     "end_time": "2024-12-07T05:01:25.709840",
     "exception": false,
     "start_time": "2024-12-07T05:01:25.483601",
     "status": "completed"
    },
    "tags": []
   },
   "outputs": [
    {
     "data": {
      "image/png": "[encoded data removed]",
      "text/plain": [
       "<Figure size 640x480 with 1 Axes>"
      ]
     },
     "metadata": {},
     "output_type": "display_data"
    }
   ],
   "source": [
    "plt.pie(df1[' no_of_dependents'].value_counts(),labels=df1[' no_of_dependents'].value_counts().index,autopct='%1.2f%%')\n",
    "plt.legend(df1[' no_of_dependents'].unique())\n",
    "plt.title('Pie chart of no_of_dependents')\n",
    "plt.show()"
   ]
  },
  {
   "cell_type": "markdown",
   "id": "f35da1a9",
   "metadata": {
    "id": "9PbLfUjY3T0w",
    "papermill": {
     "duration": 0.02448,
     "end_time": "2024-12-07T05:01:25.768589",
     "exception": false,
     "start_time": "2024-12-07T05:01:25.744109",
     "status": "completed"
    },
    "tags": []
   },
   "source": [
    "income_annum"
   ]
  },
  {
   "cell_type": "code",
   "execution_count": 17,
   "id": "b146b914",
   "metadata": {
    "execution": {
     "iopub.execute_input": "2024-12-07T05:01:25.807023Z",
     "iopub.status.busy": "2024-12-07T05:01:25.806107Z",
     "iopub.status.idle": "2024-12-07T05:01:26.297946Z",
     "shell.execute_reply": "2024-12-07T05:01:26.296607Z"
    },
    "id": "UUOSoEBZ2REy",
    "outputId": "7ff69a10-938d-4279-f432-cde796b2594e",
    "papermill": {
     "duration": 0.513555,
     "end_time": "2024-12-07T05:01:26.300207",
     "exception": false,
     "start_time": "2024-12-07T05:01:25.786652",
     "status": "completed"
    },
    "tags": []
   },
   "outputs": [
    {
     "data": {
      "text/plain": [
       "<Axes: ylabel='Density'>"
      ]
     },
     "execution_count": 17,
     "metadata": {},
     "output_type": "execute_result"
    },
    {
     "data": {
      "image/png": "[encoded data removed]",
      "text/plain": [
       "<Figure size 640x480 with 1 Axes>"
      ]
     },
     "metadata": {},
     "output_type": "display_data"
    }
   ],
   "source": [
    "df1[' income_annum'].plot(kind='kde',color='k')"
   ]
  },
  {
   "cell_type": "code",
   "execution_count": 18,
   "id": "e95ba034",
   "metadata": {
    "execution": {
     "iopub.execute_input": "2024-12-07T05:01:26.341424Z",
     "iopub.status.busy": "2024-12-07T05:01:26.340721Z",
     "iopub.status.idle": "2024-12-07T05:01:26.349074Z",
     "shell.execute_reply": "2024-12-07T05:01:26.347887Z"
    },
    "id": "WsIOgZ9O2TTj",
    "outputId": "a015d5e0-5f07-42f6-89af-f994ff8bde03",
    "papermill": {
     "duration": 0.031118,
     "end_time": "2024-12-07T05:01:26.351209",
     "exception": false,
     "start_time": "2024-12-07T05:01:26.320091",
     "status": "completed"
    },
    "tags": []
   },
   "outputs": [
    {
     "data": {
      "text/plain": [
       "-0.012814425096650109"
      ]
     },
     "execution_count": 18,
     "metadata": {},
     "output_type": "execute_result"
    }
   ],
   "source": [
    "df1[' income_annum'].skew()"
   ]
  },
  {
   "cell_type": "markdown",
   "id": "a3b9f843",
   "metadata": {
    "id": "Jy5K0PnL3XgQ",
    "papermill": {
     "duration": 0.018352,
     "end_time": "2024-12-07T05:01:26.388449",
     "exception": false,
     "start_time": "2024-12-07T05:01:26.370097",
     "status": "completed"
    },
    "tags": []
   },
   "source": [
    "loan_amount"
   ]
  },
  {
   "cell_type": "code",
   "execution_count": 19,
   "id": "1f2bca29",
   "metadata": {
    "execution": {
     "iopub.execute_input": "2024-12-07T05:01:26.429040Z",
     "iopub.status.busy": "2024-12-07T05:01:26.428655Z",
     "iopub.status.idle": "2024-12-07T05:01:26.799707Z",
     "shell.execute_reply": "2024-12-07T05:01:26.798610Z"
    },
    "id": "xhO7zhpZ2VaS",
    "outputId": "356ef715-8587-4a81-ca80-cd34b4c42cb3",
    "papermill": {
     "duration": 0.393723,
     "end_time": "2024-12-07T05:01:26.802037",
     "exception": false,
     "start_time": "2024-12-07T05:01:26.408314",
     "status": "completed"
    },
    "tags": []
   },
   "outputs": [
    {
     "data": {
      "text/plain": [
       "<Axes: ylabel='Density'>"
      ]
     },
     "execution_count": 19,
     "metadata": {},
     "output_type": "execute_result"
    },
    {
     "data": {
      "image/png": "[encoded data removed]",
      "text/plain": [
       "<Figure size 640x480 with 1 Axes>"
      ]
     },
     "metadata": {},
     "output_type": "display_data"
    }
   ],
   "source": [
    "df1[' loan_amount'].plot(kind='kde',color='k')"
   ]
  },
  {
   "cell_type": "code",
   "execution_count": 20,
   "id": "a58a2cde",
   "metadata": {
    "execution": {
     "iopub.execute_input": "2024-12-07T05:01:26.844165Z",
     "iopub.status.busy": "2024-12-07T05:01:26.843750Z",
     "iopub.status.idle": "2024-12-07T05:01:26.852065Z",
     "shell.execute_reply": "2024-12-07T05:01:26.850870Z"
    },
    "id": "0nByQlHS2Wo6",
    "outputId": "be9eae5c-6fe8-4b48-a8c9-f064b4f434b5",
    "papermill": {
     "duration": 0.032746,
     "end_time": "2024-12-07T05:01:26.854330",
     "exception": false,
     "start_time": "2024-12-07T05:01:26.821584",
     "status": "completed"
    },
    "tags": []
   },
   "outputs": [
    {
     "data": {
      "text/plain": [
       "0.30872388482299223"
      ]
     },
     "execution_count": 20,
     "metadata": {},
     "output_type": "execute_result"
    }
   ],
   "source": [
    "df1[' loan_amount'].skew()"
   ]
  },
  {
   "cell_type": "markdown",
   "id": "15331174",
   "metadata": {
    "id": "_3CoadKt3ZxZ",
    "papermill": {
     "duration": 0.019084,
     "end_time": "2024-12-07T05:01:26.893100",
     "exception": false,
     "start_time": "2024-12-07T05:01:26.874016",
     "status": "completed"
    },
    "tags": []
   },
   "source": [
    "residential_assets_value"
   ]
  },
  {
   "cell_type": "code",
   "execution_count": 21,
   "id": "e921085d",
   "metadata": {
    "execution": {
     "iopub.execute_input": "2024-12-07T05:01:26.934206Z",
     "iopub.status.busy": "2024-12-07T05:01:26.933832Z",
     "iopub.status.idle": "2024-12-07T05:01:27.261818Z",
     "shell.execute_reply": "2024-12-07T05:01:27.260520Z"
    },
    "id": "nwsuciHC2ZO6",
    "outputId": "a6e8945e-81b7-489b-d38c-4ff8224f9f48",
    "papermill": {
     "duration": 0.351928,
     "end_time": "2024-12-07T05:01:27.264934",
     "exception": false,
     "start_time": "2024-12-07T05:01:26.913006",
     "status": "completed"
    },
    "tags": []
   },
   "outputs": [
    {
     "data": {
      "text/plain": [
       "<Axes: ylabel='Density'>"
      ]
     },
     "execution_count": 21,
     "metadata": {},
     "output_type": "execute_result"
    },
    {
     "data": {
      "image/png": "[encoded data removed]",
      "text/plain": [
       "<Figure size 640x480 with 1 Axes>"
      ]
     },
     "metadata": {},
     "output_type": "display_data"
    }
   ],
   "source": [
    "df1[' residential_assets_value'].plot(kind='kde',color='k')"
   ]
  },
  {
   "cell_type": "code",
   "execution_count": 22,
   "id": "e2dcdd4e",
   "metadata": {
    "execution": {
     "iopub.execute_input": "2024-12-07T05:01:27.307766Z",
     "iopub.status.busy": "2024-12-07T05:01:27.307372Z",
     "iopub.status.idle": "2024-12-07T05:01:27.314659Z",
     "shell.execute_reply": "2024-12-07T05:01:27.313626Z"
    },
    "id": "29kOT_cG2a56",
    "outputId": "b8ceefeb-954c-4dd5-9484-3a939077dd80",
    "papermill": {
     "duration": 0.030577,
     "end_time": "2024-12-07T05:01:27.316770",
     "exception": false,
     "start_time": "2024-12-07T05:01:27.286193",
     "status": "completed"
    },
    "tags": []
   },
   "outputs": [
    {
     "data": {
      "text/plain": [
       "0.9784505965115631"
      ]
     },
     "execution_count": 22,
     "metadata": {},
     "output_type": "execute_result"
    }
   ],
   "source": [
    "df1[' residential_assets_value'].skew()"
   ]
  },
  {
   "cell_type": "markdown",
   "id": "d5a582a0",
   "metadata": {
    "id": "msVeFmrU3bqJ",
    "papermill": {
     "duration": 0.020068,
     "end_time": "2024-12-07T05:01:27.357016",
     "exception": false,
     "start_time": "2024-12-07T05:01:27.336948",
     "status": "completed"
    },
    "tags": []
   },
   "source": [
    "commercial_assets_value"
   ]
  },
  {
   "cell_type": "code",
   "execution_count": 23,
   "id": "ade07f05",
   "metadata": {
    "execution": {
     "iopub.execute_input": "2024-12-07T05:01:27.400072Z",
     "iopub.status.busy": "2024-12-07T05:01:27.399648Z",
     "iopub.status.idle": "2024-12-07T05:01:27.764346Z",
     "shell.execute_reply": "2024-12-07T05:01:27.763221Z"
    },
    "id": "oRp3bGCd2dyj",
    "outputId": "3bc7dfe2-2b75-422f-8a6c-8ceea88f324a",
    "papermill": {
     "duration": 0.389308,
     "end_time": "2024-12-07T05:01:27.766540",
     "exception": false,
     "start_time": "2024-12-07T05:01:27.377232",
     "status": "completed"
    },
    "tags": []
   },
   "outputs": [
    {
     "data": {
      "text/plain": [
       "<Axes: ylabel='Density'>"
      ]
     },
     "execution_count": 23,
     "metadata": {},
     "output_type": "execute_result"
    },
    {
     "data": {
      "image/png": "[encoded data removed]",
      "text/plain": [
       "<Figure size 640x480 with 1 Axes>"
      ]
     },
     "metadata": {},
     "output_type": "display_data"
    }
   ],
   "source": [
    "df1[' commercial_assets_value'].plot(kind='kde',color='k')"
   ]
  },
  {
   "cell_type": "code",
   "execution_count": 24,
   "id": "0bedfefd",
   "metadata": {
    "execution": {
     "iopub.execute_input": "2024-12-07T05:01:27.812911Z",
     "iopub.status.busy": "2024-12-07T05:01:27.811652Z",
     "iopub.status.idle": "2024-12-07T05:01:27.819489Z",
     "shell.execute_reply": "2024-12-07T05:01:27.818487Z"
    },
    "id": "1NRXiqq-38i1",
    "outputId": "406d872c-cdc3-42ce-d26d-6f9e4536296f",
    "papermill": {
     "duration": 0.03373,
     "end_time": "2024-12-07T05:01:27.821639",
     "exception": false,
     "start_time": "2024-12-07T05:01:27.787909",
     "status": "completed"
    },
    "tags": []
   },
   "outputs": [
    {
     "data": {
      "text/plain": [
       "0.9577908874986114"
      ]
     },
     "execution_count": 24,
     "metadata": {},
     "output_type": "execute_result"
    }
   ],
   "source": [
    "df1[' commercial_assets_value'].skew()"
   ]
  },
  {
   "cell_type": "markdown",
   "id": "9e61b38f",
   "metadata": {
    "id": "GMoUBO803dth",
    "papermill": {
     "duration": 0.020373,
     "end_time": "2024-12-07T05:01:27.862596",
     "exception": false,
     "start_time": "2024-12-07T05:01:27.842223",
     "status": "completed"
    },
    "tags": []
   },
   "source": [
    "luxury_assets_value"
   ]
  },
  {
   "cell_type": "code",
   "execution_count": 25,
   "id": "fb45bf7e",
   "metadata": {
    "execution": {
     "iopub.execute_input": "2024-12-07T05:01:27.905668Z",
     "iopub.status.busy": "2024-12-07T05:01:27.905287Z",
     "iopub.status.idle": "2024-12-07T05:01:28.268906Z",
     "shell.execute_reply": "2024-12-07T05:01:28.267690Z"
    },
    "id": "bIJbaYzH2gHT",
    "outputId": "107e0b5c-fcd4-464f-a757-2b87597e7aea",
    "papermill": {
     "duration": 0.388192,
     "end_time": "2024-12-07T05:01:28.271302",
     "exception": false,
     "start_time": "2024-12-07T05:01:27.883110",
     "status": "completed"
    },
    "tags": []
   },
   "outputs": [
    {
     "data": {
      "text/plain": [
       "<Axes: ylabel='Density'>"
      ]
     },
     "execution_count": 25,
     "metadata": {},
     "output_type": "execute_result"
    },
    {
     "data": {
      "image/png": "[encoded data removed]",
      "text/plain": [
       "<Figure size 640x480 with 1 Axes>"
      ]
     },
     "metadata": {},
     "output_type": "display_data"
    }
   ],
   "source": [
    "df1[' luxury_assets_value'].plot(kind='kde',color='g')"
   ]
  },
  {
   "cell_type": "code",
   "execution_count": 26,
   "id": "3d150cea",
   "metadata": {
    "execution": {
     "iopub.execute_input": "2024-12-07T05:01:28.316478Z",
     "iopub.status.busy": "2024-12-07T05:01:28.315498Z",
     "iopub.status.idle": "2024-12-07T05:01:28.322716Z",
     "shell.execute_reply": "2024-12-07T05:01:28.321715Z"
    },
    "id": "gV3GVGEM39tl",
    "outputId": "ac1b1359-a925-42b5-ca67-c60cb5cb5dc6",
    "papermill": {
     "duration": 0.032105,
     "end_time": "2024-12-07T05:01:28.324750",
     "exception": false,
     "start_time": "2024-12-07T05:01:28.292645",
     "status": "completed"
    },
    "tags": []
   },
   "outputs": [
    {
     "data": {
      "text/plain": [
       "0.3222075028955774"
      ]
     },
     "execution_count": 26,
     "metadata": {},
     "output_type": "execute_result"
    }
   ],
   "source": [
    "df1[' luxury_assets_value'].skew()"
   ]
  },
  {
   "cell_type": "markdown",
   "id": "f08a6948",
   "metadata": {
    "id": "3SpZStja3fry",
    "papermill": {
     "duration": 0.022328,
     "end_time": "2024-12-07T05:01:28.369417",
     "exception": false,
     "start_time": "2024-12-07T05:01:28.347089",
     "status": "completed"
    },
    "tags": []
   },
   "source": [
    "bank_asset_value"
   ]
  },
  {
   "cell_type": "code",
   "execution_count": 27,
   "id": "3447f723",
   "metadata": {
    "execution": {
     "iopub.execute_input": "2024-12-07T05:01:28.414162Z",
     "iopub.status.busy": "2024-12-07T05:01:28.413746Z",
     "iopub.status.idle": "2024-12-07T05:01:28.752216Z",
     "shell.execute_reply": "2024-12-07T05:01:28.750971Z"
    },
    "id": "_yhcP-yH2inr",
    "outputId": "5fd4c255-a0c3-44ef-bd22-82086aea71aa",
    "papermill": {
     "duration": 0.3641,
     "end_time": "2024-12-07T05:01:28.754833",
     "exception": false,
     "start_time": "2024-12-07T05:01:28.390733",
     "status": "completed"
    },
    "tags": []
   },
   "outputs": [
    {
     "data": {
      "text/plain": [
       "<Axes: ylabel='Density'>"
      ]
     },
     "execution_count": 27,
     "metadata": {},
     "output_type": "execute_result"
    },
    {
     "data": {
      "image/png": "[encoded data removed]",
      "text/plain": [
       "<Figure size 640x480 with 1 Axes>"
      ]
     },
     "metadata": {},
     "output_type": "display_data"
    }
   ],
   "source": [
    "df1[' bank_asset_value'].plot(kind='kde',color='orange')"
   ]
  },
  {
   "cell_type": "code",
   "execution_count": 28,
   "id": "0e1cd838",
   "metadata": {
    "execution": {
     "iopub.execute_input": "2024-12-07T05:01:28.801591Z",
     "iopub.status.busy": "2024-12-07T05:01:28.800827Z",
     "iopub.status.idle": "2024-12-07T05:01:28.807707Z",
     "shell.execute_reply": "2024-12-07T05:01:28.806692Z"
    },
    "id": "ZCdL1_zP3_AU",
    "outputId": "dc95a52b-02e8-481a-a257-e796235eea0a",
    "papermill": {
     "duration": 0.032169,
     "end_time": "2024-12-07T05:01:28.809744",
     "exception": false,
     "start_time": "2024-12-07T05:01:28.777575",
     "status": "completed"
    },
    "tags": []
   },
   "outputs": [
    {
     "data": {
      "text/plain": [
       "0.5607250089736816"
      ]
     },
     "execution_count": 28,
     "metadata": {},
     "output_type": "execute_result"
    }
   ],
   "source": [
    "df1[' bank_asset_value'].skew()"
   ]
  },
  {
   "cell_type": "markdown",
   "id": "c218709a",
   "metadata": {
    "id": "lr9vUK-MJpOj",
    "papermill": {
     "duration": 0.022891,
     "end_time": "2024-12-07T05:01:28.854529",
     "exception": false,
     "start_time": "2024-12-07T05:01:28.831638",
     "status": "completed"
    },
    "tags": []
   },
   "source": [
    "Loan Approved & Rejected on self employed & unemployed"
   ]
  },
  {
   "cell_type": "code",
   "execution_count": 29,
   "id": "36ab2565",
   "metadata": {
    "execution": {
     "iopub.execute_input": "2024-12-07T05:01:28.902048Z",
     "iopub.status.busy": "2024-12-07T05:01:28.901141Z",
     "iopub.status.idle": "2024-12-07T05:01:29.103724Z",
     "shell.execute_reply": "2024-12-07T05:01:29.102665Z"
    },
    "id": "GdQQfLFL4KsW",
    "outputId": "3b5cdcbe-4234-4ab0-f934-47d3fee9667a",
    "papermill": {
     "duration": 0.229224,
     "end_time": "2024-12-07T05:01:29.105944",
     "exception": false,
     "start_time": "2024-12-07T05:01:28.876720",
     "status": "completed"
    },
    "tags": []
   },
   "outputs": [
    {
     "data": {
      "image/png": "[encoded data removed]",
      "text/plain": [
       "<Figure size 640x480 with 1 Axes>"
      ]
     },
     "metadata": {},
     "output_type": "display_data"
    }
   ],
   "source": [
    "sns.countplot(x=df1[' loan_status'],hue=df1[' self_employed'],palette=['k','grey'])\n",
    "plt.title('Loan Approved & Rejected on self employed & unemployed')\n",
    "plt.show()"
   ]
  },
  {
   "cell_type": "markdown",
   "id": "15f99e2a",
   "metadata": {
    "id": "uf0pyVjoKHIE",
    "papermill": {
     "duration": 0.023854,
     "end_time": "2024-12-07T05:01:29.152055",
     "exception": false,
     "start_time": "2024-12-07T05:01:29.128201",
     "status": "completed"
    },
    "tags": []
   },
   "source": [
    "Loan Approved & Rejected on education"
   ]
  },
  {
   "cell_type": "code",
   "execution_count": 30,
   "id": "1644c824",
   "metadata": {
    "execution": {
     "iopub.execute_input": "2024-12-07T05:01:29.199726Z",
     "iopub.status.busy": "2024-12-07T05:01:29.199182Z",
     "iopub.status.idle": "2024-12-07T05:01:29.395853Z",
     "shell.execute_reply": "2024-12-07T05:01:29.394676Z"
    },
    "id": "qstFjeHpKGR9",
    "outputId": "8feab0fd-409c-44ef-dbc0-85c04beed762",
    "papermill": {
     "duration": 0.223781,
     "end_time": "2024-12-07T05:01:29.398460",
     "exception": false,
     "start_time": "2024-12-07T05:01:29.174679",
     "status": "completed"
    },
    "tags": []
   },
   "outputs": [
    {
     "data": {
      "image/png": "[encoded data removed]",
      "text/plain": [
       "<Figure size 640x480 with 1 Axes>"
      ]
     },
     "metadata": {},
     "output_type": "display_data"
    }
   ],
   "source": [
    "sns.countplot(x=df1[' loan_status'],hue=df1[' education'],palette=['k','grey'])\n",
    "plt.title('Loan Approved & Rejected on education')\n",
    "plt.show()"
   ]
  },
  {
   "cell_type": "markdown",
   "id": "b57501b8",
   "metadata": {
    "id": "x8LSimAKH8sr",
    "papermill": {
     "duration": 0.022431,
     "end_time": "2024-12-07T05:01:29.495025",
     "exception": false,
     "start_time": "2024-12-07T05:01:29.472594",
     "status": "completed"
    },
    "tags": []
   },
   "source": [
    "# Encoding"
   ]
  },
  {
   "cell_type": "markdown",
   "id": "fa0e645a",
   "metadata": {
    "id": "gjzOFwXeSjkq",
    "papermill": {
     "duration": 0.023045,
     "end_time": "2024-12-07T05:01:29.541324",
     "exception": false,
     "start_time": "2024-12-07T05:01:29.518279",
     "status": "completed"
    },
    "tags": []
   },
   "source": [
    "education"
   ]
  },
  {
   "cell_type": "code",
   "execution_count": 31,
   "id": "c868d82c",
   "metadata": {
    "execution": {
     "iopub.execute_input": "2024-12-07T05:01:29.590990Z",
     "iopub.status.busy": "2024-12-07T05:01:29.590574Z",
     "iopub.status.idle": "2024-12-07T05:01:29.598640Z",
     "shell.execute_reply": "2024-12-07T05:01:29.597467Z"
    },
    "id": "zeR-Ur0zRZ0m",
    "outputId": "eb63e34e-86fd-412a-ed61-d06fe0e2c458",
    "papermill": {
     "duration": 0.035811,
     "end_time": "2024-12-07T05:01:29.601288",
     "exception": false,
     "start_time": "2024-12-07T05:01:29.565477",
     "status": "completed"
    },
    "tags": []
   },
   "outputs": [
    {
     "data": {
      "text/plain": [
       "array([' Graduate', ' Not Graduate'], dtype=object)"
      ]
     },
     "execution_count": 31,
     "metadata": {},
     "output_type": "execute_result"
    }
   ],
   "source": [
    "df1[' education'].unique()"
   ]
  },
  {
   "cell_type": "code",
   "execution_count": 32,
   "id": "da8b9349",
   "metadata": {
    "execution": {
     "iopub.execute_input": "2024-12-07T05:01:29.651920Z",
     "iopub.status.busy": "2024-12-07T05:01:29.651473Z",
     "iopub.status.idle": "2024-12-07T05:01:29.663514Z",
     "shell.execute_reply": "2024-12-07T05:01:29.661870Z"
    },
    "id": "6EEO1iE8Rmov",
    "papermill": {
     "duration": 0.041654,
     "end_time": "2024-12-07T05:01:29.666531",
     "exception": false,
     "start_time": "2024-12-07T05:01:29.624877",
     "status": "completed"
    },
    "tags": []
   },
   "outputs": [
    {
     "name": "stderr",
     "output_type": "stream",
     "text": [
      "/tmp/ipykernel_17/1936274764.py:1: FutureWarning: A value is trying to be set on a copy of a DataFrame or Series through chained assignment using an inplace method.\n",
      "The behavior will change in pandas 3.0. This inplace method will never work because the intermediate object on which we are setting values always behaves as a copy.\n",
      "\n",
      "For example, when doing 'df[col].method(value, inplace=True)', try using 'df.method({col: value}, inplace=True)' or df[col] = df[col].method(value) instead, to perform the operation inplace on the original object.\n",
      "\n",
      "\n",
      "  df1[' education'].replace([' Graduate', ' Not Graduate'],[1,0],inplace=True)\n",
      "/tmp/ipykernel_17/1936274764.py:1: FutureWarning: Downcasting behavior in `replace` is deprecated and will be removed in a future version. To retain the old behavior, explicitly call `result.infer_objects(copy=False)`. To opt-in to the future behavior, set `pd.set_option('future.no_silent_downcasting', True)`\n",
      "  df1[' education'].replace([' Graduate', ' Not Graduate'],[1,0],inplace=True)\n"
     ]
    }
   ],
   "source": [
    "df1[' education'].replace([' Graduate', ' Not Graduate'],[1,0],inplace=True)"
   ]
  },
  {
   "cell_type": "markdown",
   "id": "39b74b7e",
   "metadata": {
    "id": "oUm_WK-9SkSR",
    "papermill": {
     "duration": 0.023995,
     "end_time": "2024-12-07T05:01:29.717190",
     "exception": false,
     "start_time": "2024-12-07T05:01:29.693195",
     "status": "completed"
    },
    "tags": []
   },
   "source": [
    "self_employed"
   ]
  },
  {
   "cell_type": "code",
   "execution_count": 33,
   "id": "32269aab",
   "metadata": {
    "execution": {
     "iopub.execute_input": "2024-12-07T05:01:29.767630Z",
     "iopub.status.busy": "2024-12-07T05:01:29.767242Z",
     "iopub.status.idle": "2024-12-07T05:01:29.774891Z",
     "shell.execute_reply": "2024-12-07T05:01:29.773706Z"
    },
    "id": "GOJUUFDmSg9F",
    "outputId": "8fb2d0f3-e38e-4ff7-a14d-166d86885515",
    "papermill": {
     "duration": 0.03601,
     "end_time": "2024-12-07T05:01:29.777076",
     "exception": false,
     "start_time": "2024-12-07T05:01:29.741066",
     "status": "completed"
    },
    "tags": []
   },
   "outputs": [
    {
     "data": {
      "text/plain": [
       "array([' No', ' Yes'], dtype=object)"
      ]
     },
     "execution_count": 33,
     "metadata": {},
     "output_type": "execute_result"
    }
   ],
   "source": [
    "df1[' self_employed'].unique()"
   ]
  },
  {
   "cell_type": "code",
   "execution_count": 34,
   "id": "6b684fee",
   "metadata": {
    "execution": {
     "iopub.execute_input": "2024-12-07T05:01:29.825183Z",
     "iopub.status.busy": "2024-12-07T05:01:29.824810Z",
     "iopub.status.idle": "2024-12-07T05:01:29.833450Z",
     "shell.execute_reply": "2024-12-07T05:01:29.832370Z"
    },
    "id": "MfcPpnLXSg9G",
    "papermill": {
     "duration": 0.035514,
     "end_time": "2024-12-07T05:01:29.835823",
     "exception": false,
     "start_time": "2024-12-07T05:01:29.800309",
     "status": "completed"
    },
    "tags": []
   },
   "outputs": [
    {
     "name": "stderr",
     "output_type": "stream",
     "text": [
      "/tmp/ipykernel_17/1078842419.py:1: FutureWarning: A value is trying to be set on a copy of a DataFrame or Series through chained assignment using an inplace method.\n",
      "The behavior will change in pandas 3.0. This inplace method will never work because the intermediate object on which we are setting values always behaves as a copy.\n",
      "\n",
      "For example, when doing 'df[col].method(value, inplace=True)', try using 'df.method({col: value}, inplace=True)' or df[col] = df[col].method(value) instead, to perform the operation inplace on the original object.\n",
      "\n",
      "\n",
      "  df1[' self_employed'].replace([' No', ' Yes'],[0,1],inplace=True)\n",
      "/tmp/ipykernel_17/1078842419.py:1: FutureWarning: Downcasting behavior in `replace` is deprecated and will be removed in a future version. To retain the old behavior, explicitly call `result.infer_objects(copy=False)`. To opt-in to the future behavior, set `pd.set_option('future.no_silent_downcasting', True)`\n",
      "  df1[' self_employed'].replace([' No', ' Yes'],[0,1],inplace=True)\n"
     ]
    }
   ],
   "source": [
    "df1[' self_employed'].replace([' No', ' Yes'],[0,1],inplace=True)"
   ]
  },
  {
   "cell_type": "markdown",
   "id": "da8332f3",
   "metadata": {
    "id": "uCBI8BArULyu",
    "papermill": {
     "duration": 0.02308,
     "end_time": "2024-12-07T05:01:29.881957",
     "exception": false,
     "start_time": "2024-12-07T05:01:29.858877",
     "status": "completed"
    },
    "tags": []
   },
   "source": [
    "loan_status"
   ]
  },
  {
   "cell_type": "code",
   "execution_count": 35,
   "id": "e73f5e2f",
   "metadata": {
    "execution": {
     "iopub.execute_input": "2024-12-07T05:01:29.931569Z",
     "iopub.status.busy": "2024-12-07T05:01:29.930716Z",
     "iopub.status.idle": "2024-12-07T05:01:29.938258Z",
     "shell.execute_reply": "2024-12-07T05:01:29.937183Z"
    },
    "id": "mqxhKLZwULyv",
    "outputId": "dbd8f9cc-a68e-4c3f-c95d-2f29e510b659",
    "papermill": {
     "duration": 0.035428,
     "end_time": "2024-12-07T05:01:29.940524",
     "exception": false,
     "start_time": "2024-12-07T05:01:29.905096",
     "status": "completed"
    },
    "tags": []
   },
   "outputs": [
    {
     "data": {
      "text/plain": [
       "array([' Approved', ' Rejected'], dtype=object)"
      ]
     },
     "execution_count": 35,
     "metadata": {},
     "output_type": "execute_result"
    }
   ],
   "source": [
    "df1[' loan_status'].unique()"
   ]
  },
  {
   "cell_type": "code",
   "execution_count": 36,
   "id": "3370c561",
   "metadata": {
    "execution": {
     "iopub.execute_input": "2024-12-07T05:01:29.991974Z",
     "iopub.status.busy": "2024-12-07T05:01:29.991196Z",
     "iopub.status.idle": "2024-12-07T05:01:29.999795Z",
     "shell.execute_reply": "2024-12-07T05:01:29.998792Z"
    },
    "id": "1hFnWMm4ULyv",
    "papermill": {
     "duration": 0.036872,
     "end_time": "2024-12-07T05:01:30.001851",
     "exception": false,
     "start_time": "2024-12-07T05:01:29.964979",
     "status": "completed"
    },
    "tags": []
   },
   "outputs": [
    {
     "name": "stderr",
     "output_type": "stream",
     "text": [
      "/tmp/ipykernel_17/3432510851.py:1: FutureWarning: A value is trying to be set on a copy of a DataFrame or Series through chained assignment using an inplace method.\n",
      "The behavior will change in pandas 3.0. This inplace method will never work because the intermediate object on which we are setting values always behaves as a copy.\n",
      "\n",
      "For example, when doing 'df[col].method(value, inplace=True)', try using 'df.method({col: value}, inplace=True)' or df[col] = df[col].method(value) instead, to perform the operation inplace on the original object.\n",
      "\n",
      "\n",
      "  df1[' loan_status'].replace([' Approved', ' Rejected'],[1,0],inplace=True)\n",
      "/tmp/ipykernel_17/3432510851.py:1: FutureWarning: Downcasting behavior in `replace` is deprecated and will be removed in a future version. To retain the old behavior, explicitly call `result.infer_objects(copy=False)`. To opt-in to the future behavior, set `pd.set_option('future.no_silent_downcasting', True)`\n",
      "  df1[' loan_status'].replace([' Approved', ' Rejected'],[1,0],inplace=True)\n"
     ]
    }
   ],
   "source": [
    "df1[' loan_status'].replace([' Approved', ' Rejected'],[1,0],inplace=True)"
   ]
  },
  {
   "cell_type": "code",
   "execution_count": 37,
   "id": "67cb5f44",
   "metadata": {
    "execution": {
     "iopub.execute_input": "2024-12-07T05:01:30.052848Z",
     "iopub.status.busy": "2024-12-07T05:01:30.052395Z",
     "iopub.status.idle": "2024-12-07T05:01:30.060960Z",
     "shell.execute_reply": "2024-12-07T05:01:30.059764Z"
    },
    "id": "G-NlBSpnUoe4",
    "outputId": "8a3aaafe-f6ca-489f-ba1f-d93a506cd5af",
    "papermill": {
     "duration": 0.03712,
     "end_time": "2024-12-07T05:01:30.063298",
     "exception": false,
     "start_time": "2024-12-07T05:01:30.026178",
     "status": "completed"
    },
    "tags": []
   },
   "outputs": [
    {
     "data": {
      "text/plain": [
       "no_of_dependents            int64\n",
       "education                   int64\n",
       "self_employed               int64\n",
       "income_annum                int64\n",
       "loan_amount                 int64\n",
       "loan_term                   int64\n",
       "cibil_score                 int64\n",
       "residential_assets_value    int64\n",
       "commercial_assets_value     int64\n",
       "luxury_assets_value         int64\n",
       "bank_asset_value            int64\n",
       "loan_status                 int64\n",
       "dtype: object"
      ]
     },
     "execution_count": 37,
     "metadata": {},
     "output_type": "execute_result"
    }
   ],
   "source": [
    "df1.dtypes"
   ]
  },
  {
   "cell_type": "markdown",
   "id": "9b19b6fa",
   "metadata": {
    "id": "53IwlA2ZU2oQ",
    "papermill": {
     "duration": 0.024931,
     "end_time": "2024-12-07T05:01:30.112196",
     "exception": false,
     "start_time": "2024-12-07T05:01:30.087265",
     "status": "completed"
    },
    "tags": []
   },
   "source": [
    "Now all variables are numeric"
   ]
  },
  {
   "cell_type": "markdown",
   "id": "0d01babf",
   "metadata": {
    "id": "q--4x6i54xFV",
    "papermill": {
     "duration": 0.025153,
     "end_time": "2024-12-07T05:01:30.160620",
     "exception": false,
     "start_time": "2024-12-07T05:01:30.135467",
     "status": "completed"
    },
    "tags": []
   },
   "source": [
    "# Correlation Analysis:"
   ]
  },
  {
   "cell_type": "code",
   "execution_count": 38,
   "id": "7b3604f4",
   "metadata": {
    "execution": {
     "iopub.execute_input": "2024-12-07T05:01:30.208963Z",
     "iopub.status.busy": "2024-12-07T05:01:30.208557Z",
     "iopub.status.idle": "2024-12-07T05:01:30.229909Z",
     "shell.execute_reply": "2024-12-07T05:01:30.228771Z"
    },
    "id": "EysBDlHY5v3V",
    "outputId": "f19e6b5d-8051-4591-8b95-856fb50dccf0",
    "papermill": {
     "duration": 0.048352,
     "end_time": "2024-12-07T05:01:30.232204",
     "exception": false,
     "start_time": "2024-12-07T05:01:30.183852",
     "status": "completed"
    },
    "tags": []
   },
   "outputs": [
    {
     "data": {
      "text/html": [
       "<div>\n",
       "<style scoped>\n",
       "    .dataframe tbody tr th:only-of-type {\n",
       "        vertical-align: middle;\n",
       "    }\n",
       "\n",
       "    .dataframe tbody tr th {\n",
       "        vertical-align: top;\n",
       "    }\n",
       "\n",
       "    .dataframe thead th {\n",
       "        text-align: right;\n",
       "    }\n",
       "</style>\n",
       "<table border=\"1\" class=\"dataframe\">\n",
       "  <thead>\n",
       "    <tr style=\"text-align: right;\">\n",
       "      <th></th>\n",
       "      <th>no_of_dependents</th>\n",
       "      <th>education</th>\n",
       "      <th>self_employed</th>\n",
       "      <th>income_annum</th>\n",
       "      <th>loan_amount</th>\n",
       "      <th>loan_term</th>\n",
       "      <th>cibil_score</th>\n",
       "      <th>residential_assets_value</th>\n",
       "      <th>commercial_assets_value</th>\n",
       "      <th>luxury_assets_value</th>\n",
       "      <th>bank_asset_value</th>\n",
       "      <th>loan_status</th>\n",
       "    </tr>\n",
       "  </thead>\n",
       "  <tbody>\n",
       "    <tr>\n",
       "      <th>no_of_dependents</th>\n",
       "      <td>1.000000</td>\n",
       "      <td>0.002697</td>\n",
       "      <td>0.000765</td>\n",
       "      <td>0.007266</td>\n",
       "      <td>-0.003366</td>\n",
       "      <td>-0.020111</td>\n",
       "      <td>-0.009998</td>\n",
       "      <td>0.007376</td>\n",
       "      <td>-0.001531</td>\n",
       "      <td>0.002817</td>\n",
       "      <td>0.011163</td>\n",
       "      <td>-0.018114</td>\n",
       "    </tr>\n",
       "    <tr>\n",
       "      <th>education</th>\n",
       "      <td>0.002697</td>\n",
       "      <td>1.000000</td>\n",
       "      <td>-0.023224</td>\n",
       "      <td>0.011625</td>\n",
       "      <td>0.010631</td>\n",
       "      <td>-0.008417</td>\n",
       "      <td>-0.004649</td>\n",
       "      <td>0.010930</td>\n",
       "      <td>-0.006763</td>\n",
       "      <td>0.012471</td>\n",
       "      <td>0.009424</td>\n",
       "      <td>0.004918</td>\n",
       "    </tr>\n",
       "    <tr>\n",
       "      <th>self_employed</th>\n",
       "      <td>0.000765</td>\n",
       "      <td>-0.023224</td>\n",
       "      <td>1.000000</td>\n",
       "      <td>0.002368</td>\n",
       "      <td>0.001450</td>\n",
       "      <td>0.004107</td>\n",
       "      <td>-0.004866</td>\n",
       "      <td>0.006144</td>\n",
       "      <td>-0.017998</td>\n",
       "      <td>0.004413</td>\n",
       "      <td>-0.000215</td>\n",
       "      <td>0.000345</td>\n",
       "    </tr>\n",
       "    <tr>\n",
       "      <th>income_annum</th>\n",
       "      <td>0.007266</td>\n",
       "      <td>0.011625</td>\n",
       "      <td>0.002368</td>\n",
       "      <td>1.000000</td>\n",
       "      <td>0.927470</td>\n",
       "      <td>0.011488</td>\n",
       "      <td>-0.023034</td>\n",
       "      <td>0.636841</td>\n",
       "      <td>0.640328</td>\n",
       "      <td>0.929145</td>\n",
       "      <td>0.851093</td>\n",
       "      <td>-0.015189</td>\n",
       "    </tr>\n",
       "    <tr>\n",
       "      <th>loan_amount</th>\n",
       "      <td>-0.003366</td>\n",
       "      <td>0.010631</td>\n",
       "      <td>0.001450</td>\n",
       "      <td>0.927470</td>\n",
       "      <td>1.000000</td>\n",
       "      <td>0.008437</td>\n",
       "      <td>-0.017035</td>\n",
       "      <td>0.594596</td>\n",
       "      <td>0.603188</td>\n",
       "      <td>0.860914</td>\n",
       "      <td>0.788122</td>\n",
       "      <td>0.016150</td>\n",
       "    </tr>\n",
       "    <tr>\n",
       "      <th>loan_term</th>\n",
       "      <td>-0.020111</td>\n",
       "      <td>-0.008417</td>\n",
       "      <td>0.004107</td>\n",
       "      <td>0.011488</td>\n",
       "      <td>0.008437</td>\n",
       "      <td>1.000000</td>\n",
       "      <td>0.007810</td>\n",
       "      <td>0.008016</td>\n",
       "      <td>-0.005478</td>\n",
       "      <td>0.012490</td>\n",
       "      <td>0.017177</td>\n",
       "      <td>-0.113036</td>\n",
       "    </tr>\n",
       "    <tr>\n",
       "      <th>cibil_score</th>\n",
       "      <td>-0.009998</td>\n",
       "      <td>-0.004649</td>\n",
       "      <td>-0.004866</td>\n",
       "      <td>-0.023034</td>\n",
       "      <td>-0.017035</td>\n",
       "      <td>0.007810</td>\n",
       "      <td>1.000000</td>\n",
       "      <td>-0.019947</td>\n",
       "      <td>-0.003769</td>\n",
       "      <td>-0.028618</td>\n",
       "      <td>-0.015478</td>\n",
       "      <td>0.770518</td>\n",
       "    </tr>\n",
       "    <tr>\n",
       "      <th>residential_assets_value</th>\n",
       "      <td>0.007376</td>\n",
       "      <td>0.010930</td>\n",
       "      <td>0.006144</td>\n",
       "      <td>0.636841</td>\n",
       "      <td>0.594596</td>\n",
       "      <td>0.008016</td>\n",
       "      <td>-0.019947</td>\n",
       "      <td>1.000000</td>\n",
       "      <td>0.414786</td>\n",
       "      <td>0.590932</td>\n",
       "      <td>0.527418</td>\n",
       "      <td>-0.014367</td>\n",
       "    </tr>\n",
       "    <tr>\n",
       "      <th>commercial_assets_value</th>\n",
       "      <td>-0.001531</td>\n",
       "      <td>-0.006763</td>\n",
       "      <td>-0.017998</td>\n",
       "      <td>0.640328</td>\n",
       "      <td>0.603188</td>\n",
       "      <td>-0.005478</td>\n",
       "      <td>-0.003769</td>\n",
       "      <td>0.414786</td>\n",
       "      <td>1.000000</td>\n",
       "      <td>0.591128</td>\n",
       "      <td>0.548576</td>\n",
       "      <td>0.008246</td>\n",
       "    </tr>\n",
       "    <tr>\n",
       "      <th>luxury_assets_value</th>\n",
       "      <td>0.002817</td>\n",
       "      <td>0.012471</td>\n",
       "      <td>0.004413</td>\n",
       "      <td>0.929145</td>\n",
       "      <td>0.860914</td>\n",
       "      <td>0.012490</td>\n",
       "      <td>-0.028618</td>\n",
       "      <td>0.590932</td>\n",
       "      <td>0.591128</td>\n",
       "      <td>1.000000</td>\n",
       "      <td>0.788517</td>\n",
       "      <td>-0.015465</td>\n",
       "    </tr>\n",
       "    <tr>\n",
       "      <th>bank_asset_value</th>\n",
       "      <td>0.011163</td>\n",
       "      <td>0.009424</td>\n",
       "      <td>-0.000215</td>\n",
       "      <td>0.851093</td>\n",
       "      <td>0.788122</td>\n",
       "      <td>0.017177</td>\n",
       "      <td>-0.015478</td>\n",
       "      <td>0.527418</td>\n",
       "      <td>0.548576</td>\n",
       "      <td>0.788517</td>\n",
       "      <td>1.000000</td>\n",
       "      <td>-0.006778</td>\n",
       "    </tr>\n",
       "    <tr>\n",
       "      <th>loan_status</th>\n",
       "      <td>-0.018114</td>\n",
       "      <td>0.004918</td>\n",
       "      <td>0.000345</td>\n",
       "      <td>-0.015189</td>\n",
       "      <td>0.016150</td>\n",
       "      <td>-0.113036</td>\n",
       "      <td>0.770518</td>\n",
       "      <td>-0.014367</td>\n",
       "      <td>0.008246</td>\n",
       "      <td>-0.015465</td>\n",
       "      <td>-0.006778</td>\n",
       "      <td>1.000000</td>\n",
       "    </tr>\n",
       "  </tbody>\n",
       "</table>\n",
       "</div>"
      ],
      "text/plain": [
       "                          no_of_dependents  education  self_employed  \\\n",
       "no_of_dependents                  1.000000   0.002697       0.000765   \n",
       "education                         0.002697   1.000000      -0.023224   \n",
       "self_employed                     0.000765  -0.023224       1.000000   \n",
       "income_annum                      0.007266   0.011625       0.002368   \n",
       "loan_amount                      -0.003366   0.010631       0.001450   \n",
       "loan_term                        -0.020111  -0.008417       0.004107   \n",
       "cibil_score                      -0.009998  -0.004649      -0.004866   \n",
       "residential_assets_value          0.007376   0.010930       0.006144   \n",
       "commercial_assets_value          -0.001531  -0.006763      -0.017998   \n",
       "luxury_assets_value               0.002817   0.012471       0.004413   \n",
       "bank_asset_value                  0.011163   0.009424      -0.000215   \n",
       "loan_status                      -0.018114   0.004918       0.000345   \n",
       "\n",
       "                          income_annum  loan_amount  loan_term  cibil_score  \\\n",
       "no_of_dependents              0.007266    -0.003366  -0.020111    -0.009998   \n",
       "education                     0.011625     0.010631  -0.008417    -0.004649   \n",
       "self_employed                 0.002368     0.001450   0.004107    -0.004866   \n",
       "income_annum                  1.000000     0.927470   0.011488    -0.023034   \n",
       "loan_amount                   0.927470     1.000000   0.008437    -0.017035   \n",
       "loan_term                     0.011488     0.008437   1.000000     0.007810   \n",
       "cibil_score                  -0.023034    -0.017035   0.007810     1.000000   \n",
       "residential_assets_value      0.636841     0.594596   0.008016    -0.019947   \n",
       "commercial_assets_value       0.640328     0.603188  -0.005478    -0.003769   \n",
       "luxury_assets_value           0.929145     0.860914   0.012490    -0.028618   \n",
       "bank_asset_value              0.851093     0.788122   0.017177    -0.015478   \n",
       "loan_status                  -0.015189     0.016150  -0.113036     0.770518   \n",
       "\n",
       "                          residential_assets_value  commercial_assets_value  \\\n",
       "no_of_dependents                          0.007376                -0.001531   \n",
       "education                                 0.010930                -0.006763   \n",
       "self_employed                             0.006144                -0.017998   \n",
       "income_annum                              0.636841                 0.640328   \n",
       "loan_amount                               0.594596                 0.603188   \n",
       "loan_term                                 0.008016                -0.005478   \n",
       "cibil_score                              -0.019947                -0.003769   \n",
       "residential_assets_value                  1.000000                 0.414786   \n",
       "commercial_assets_value                   0.414786                 1.000000   \n",
       "luxury_assets_value                       0.590932                 0.591128   \n",
       "bank_asset_value                          0.527418                 0.548576   \n",
       "loan_status                              -0.014367                 0.008246   \n",
       "\n",
       "                          luxury_assets_value  bank_asset_value  loan_status  \n",
       "no_of_dependents                     0.002817          0.011163    -0.018114  \n",
       "education                            0.012471          0.009424     0.004918  \n",
       "self_employed                        0.004413         -0.000215     0.000345  \n",
       "income_annum                         0.929145          0.851093    -0.015189  \n",
       "loan_amount                          0.860914          0.788122     0.016150  \n",
       "loan_term                            0.012490          0.017177    -0.113036  \n",
       "cibil_score                         -0.028618         -0.015478     0.770518  \n",
       "residential_assets_value             0.590932          0.527418    -0.014367  \n",
       "commercial_assets_value              0.591128          0.548576     0.008246  \n",
       "luxury_assets_value                  1.000000          0.788517    -0.015465  \n",
       "bank_asset_value                     0.788517          1.000000    -0.006778  \n",
       "loan_status                         -0.015465         -0.006778     1.000000  "
      ]
     },
     "execution_count": 38,
     "metadata": {},
     "output_type": "execute_result"
    }
   ],
   "source": [
    "c=df1.corr()\n",
    "c"
   ]
  },
  {
   "cell_type": "code",
   "execution_count": 39,
   "id": "5f667213",
   "metadata": {
    "execution": {
     "iopub.execute_input": "2024-12-07T05:01:30.283321Z",
     "iopub.status.busy": "2024-12-07T05:01:30.282935Z",
     "iopub.status.idle": "2024-12-07T05:01:30.293841Z",
     "shell.execute_reply": "2024-12-07T05:01:30.292839Z"
    },
    "id": "Bbg6OZ1v4z08",
    "outputId": "0521b651-1096-4849-c470-2f861545729e",
    "papermill": {
     "duration": 0.039285,
     "end_time": "2024-12-07T05:01:30.295986",
     "exception": false,
     "start_time": "2024-12-07T05:01:30.256701",
     "status": "completed"
    },
    "tags": []
   },
   "outputs": [
    {
     "data": {
      "text/plain": [
       "loan_status                 1.000000\n",
       "cibil_score                 0.770518\n",
       "loan_amount                 0.016150\n",
       "commercial_assets_value     0.008246\n",
       "education                   0.004918\n",
       "self_employed               0.000345\n",
       "bank_asset_value           -0.006778\n",
       "residential_assets_value   -0.014367\n",
       "income_annum               -0.015189\n",
       "luxury_assets_value        -0.015465\n",
       "no_of_dependents           -0.018114\n",
       "loan_term                  -0.113036\n",
       "Name:  loan_status, dtype: float64"
      ]
     },
     "execution_count": 39,
     "metadata": {},
     "output_type": "execute_result"
    }
   ],
   "source": [
    "s=df1.corr()[' loan_status']\n",
    "s.sort_values(ascending=False)"
   ]
  },
  {
   "cell_type": "code",
   "execution_count": 40,
   "id": "c112ac9f",
   "metadata": {
    "execution": {
     "iopub.execute_input": "2024-12-07T05:01:30.345833Z",
     "iopub.status.busy": "2024-12-07T05:01:30.344867Z",
     "iopub.status.idle": "2024-12-07T05:01:31.077139Z",
     "shell.execute_reply": "2024-12-07T05:01:31.075978Z"
    },
    "id": "QR7PdzNh5AZN",
    "outputId": "6c8f7cfc-f6e0-40ae-a210-012ec9edb74f",
    "papermill": {
     "duration": 0.761585,
     "end_time": "2024-12-07T05:01:31.081396",
     "exception": false,
     "start_time": "2024-12-07T05:01:30.319811",
     "status": "completed"
    },
    "tags": []
   },
   "outputs": [
    {
     "data": {
      "image/png": "[encoded data removed]",
      "text/plain": [
       "<Figure size 2000x800 with 2 Axes>"
      ]
     },
     "metadata": {},
     "output_type": "display_data"
    }
   ],
   "source": [
    "plt.figure(figsize=(20,8))\n",
    "sns.heatmap(c,annot=True,cmap='Greens')\n",
    "plt.title('Correlation heatmap')\n",
    "plt.show()"
   ]
  },
  {
   "cell_type": "markdown",
   "id": "55aa0ea0",
   "metadata": {
    "id": "92Mk5mJ2PnIb",
    "papermill": {
     "duration": 0.027668,
     "end_time": "2024-12-07T05:01:31.137561",
     "exception": false,
     "start_time": "2024-12-07T05:01:31.109893",
     "status": "completed"
    },
    "tags": []
   },
   "source": [
    "# Feature Selection"
   ]
  },
  {
   "cell_type": "code",
   "execution_count": 41,
   "id": "58de7d2b",
   "metadata": {
    "execution": {
     "iopub.execute_input": "2024-12-07T05:01:31.193826Z",
     "iopub.status.busy": "2024-12-07T05:01:31.193410Z",
     "iopub.status.idle": "2024-12-07T05:01:31.199744Z",
     "shell.execute_reply": "2024-12-07T05:01:31.198740Z"
    },
    "id": "0WRzWQGuWuTv",
    "papermill": {
     "duration": 0.037263,
     "end_time": "2024-12-07T05:01:31.201948",
     "exception": false,
     "start_time": "2024-12-07T05:01:31.164685",
     "status": "completed"
    },
    "tags": []
   },
   "outputs": [],
   "source": [
    "x=df1[[' no_of_dependents',' education',' self_employed',' income_annum',' loan_amount',' loan_term',' cibil_score',' residential_assets_value',' commercial_assets_value',' luxury_assets_value',' bank_asset_value']]\n",
    "y=df1[' loan_status']"
   ]
  },
  {
   "cell_type": "markdown",
   "id": "90ea85a9",
   "metadata": {
    "id": "DZKU-09bRF2R",
    "papermill": {
     "duration": 0.026729,
     "end_time": "2024-12-07T05:01:31.255619",
     "exception": false,
     "start_time": "2024-12-07T05:01:31.228890",
     "status": "completed"
    },
    "tags": []
   },
   "source": [
    "# Data Splitting"
   ]
  },
  {
   "cell_type": "code",
   "execution_count": 42,
   "id": "bafccad0",
   "metadata": {
    "execution": {
     "iopub.execute_input": "2024-12-07T05:01:31.314486Z",
     "iopub.status.busy": "2024-12-07T05:01:31.314080Z",
     "iopub.status.idle": "2024-12-07T05:01:31.322650Z",
     "shell.execute_reply": "2024-12-07T05:01:31.321820Z"
    },
    "id": "TJAyBNryPr5R",
    "papermill": {
     "duration": 0.039494,
     "end_time": "2024-12-07T05:01:31.324655",
     "exception": false,
     "start_time": "2024-12-07T05:01:31.285161",
     "status": "completed"
    },
    "tags": []
   },
   "outputs": [],
   "source": [
    "x_train, x_test, y_train, y_test = train_test_split(x, y, test_size=0.2, random_state=12)"
   ]
  },
  {
   "cell_type": "markdown",
   "id": "95c60e78",
   "metadata": {
    "id": "h0xX9rYnRwqR",
    "papermill": {
     "duration": 0.027135,
     "end_time": "2024-12-07T05:01:31.378750",
     "exception": false,
     "start_time": "2024-12-07T05:01:31.351615",
     "status": "completed"
    },
    "tags": []
   },
   "source": [
    "# Initial Modeling & Hypothesis Testing:"
   ]
  },
  {
   "cell_type": "code",
   "execution_count": 43,
   "id": "e99ac0e1",
   "metadata": {
    "execution": {
     "iopub.execute_input": "2024-12-07T05:01:31.438461Z",
     "iopub.status.busy": "2024-12-07T05:01:31.438088Z",
     "iopub.status.idle": "2024-12-07T05:01:31.445220Z",
     "shell.execute_reply": "2024-12-07T05:01:31.444024Z"
    },
    "id": "wT_mVSzJs-YZ",
    "papermill": {
     "duration": 0.039784,
     "end_time": "2024-12-07T05:01:31.447285",
     "exception": false,
     "start_time": "2024-12-07T05:01:31.407501",
     "status": "completed"
    },
    "tags": []
   },
   "outputs": [],
   "source": [
    "# List of Classification models to apply\n",
    "models = {\n",
    "    \"Logistic Regression\": LogisticRegression(),\n",
    "    \"Decision Tree\": DecisionTreeClassifier(),\n",
    "    \"Random Forest\": RandomForestClassifier(),\n",
    "    \"XGBoost\": XGBClassifier(),\n",
    "    \"LightGBM\": LGBMClassifier(),\n",
    "    # \"CatBoost\": CatBoostClassifier(verbose=0),\n",
    "    \"SVC\": SVC(probability=True),\n",
    "    \"KNN\": KNeighborsClassifier(),\n",
    "    \"Naive Bayes\": GaussianNB(),\n",
    "    \"MLP\": MLPClassifier(),\n",
    "    \"AdaBoost\": AdaBoostClassifier(),\n",
    "    \"Extra Trees\": ExtraTreesClassifier()\n",
    "}\n",
    "\n",
    "skf = StratifiedKFold(n_splits=5)"
   ]
  },
  {
   "cell_type": "code",
   "execution_count": 44,
   "id": "acc9324e",
   "metadata": {
    "execution": {
     "iopub.execute_input": "2024-12-07T05:01:31.505374Z",
     "iopub.status.busy": "2024-12-07T05:01:31.504985Z",
     "iopub.status.idle": "2024-12-07T05:01:31.512659Z",
     "shell.execute_reply": "2024-12-07T05:01:31.511316Z"
    },
    "id": "zSU21NpOa_0H",
    "papermill": {
     "duration": 0.038991,
     "end_time": "2024-12-07T05:01:31.514966",
     "exception": false,
     "start_time": "2024-12-07T05:01:31.475975",
     "status": "completed"
    },
    "tags": []
   },
   "outputs": [],
   "source": [
    "from sklearn.model_selection import cross_val_score\n",
    "def evaluate_model(model, x_train, y_train, x_test, y_test):\n",
    "    model.fit(x_train, y_train)\n",
    "\n",
    "    cv_score = cross_val_score(model, x_train, y_train, cv=skf, scoring='accuracy').mean()\n",
    "\n",
    "    y_pred = model.predict(x_test)\n",
    "    y_prob = model.predict_proba(x_test)[:, 1] if hasattr(model, \"predict_proba\") else None\n",
    "\n",
    "    metrics = {\n",
    "        'CV Accuracy': cv_score,\n",
    "        'Test Accuracy': accuracy_score(y_test, y_pred),\n",
    "        'Precision': precision_score(y_test, y_pred),\n",
    "        'Recall': recall_score(y_test, y_pred),\n",
    "        'F1 Score': f1_score(y_test, y_pred),\n",
    "        # 'MCC': matthews_corrcoef(y_test, y_pred),\n",
    "        'ROC-AUC': roc_auc_score(y_test, y_prob) if y_prob is not None else 'N/A',\n",
    "        'Confusion Matrix': confusion_matrix(y_test, y_pred).ravel()  # (tn, fp, fn, tp)\n",
    "    }\n",
    "    return metrics"
   ]
  },
  {
   "cell_type": "code",
   "execution_count": 45,
   "id": "c3fceb6c",
   "metadata": {
    "execution": {
     "iopub.execute_input": "2024-12-07T05:01:31.571299Z",
     "iopub.status.busy": "2024-12-07T05:01:31.570904Z",
     "iopub.status.idle": "2024-12-07T05:01:56.315943Z",
     "shell.execute_reply": "2024-12-07T05:01:56.314853Z"
    },
    "id": "aFiK804lOmZi",
    "outputId": "d7770d77-60ab-4bc1-f811-32c36e7cd458",
    "papermill": {
     "duration": 24.775976,
     "end_time": "2024-12-07T05:01:56.318191",
     "exception": false,
     "start_time": "2024-12-07T05:01:31.542215",
     "status": "completed"
    },
    "tags": []
   },
   "outputs": [
    {
     "name": "stdout",
     "output_type": "stream",
     "text": [
      "Training and evaluating Logistic Regression...\n",
      "Training and evaluating Decision Tree...\n",
      "Training and evaluating Random Forest...\n",
      "Training and evaluating XGBoost...\n",
      "Training and evaluating LightGBM...\n",
      "[LightGBM] [Warning] Found whitespace in feature_names, replace with underlines\n",
      "[LightGBM] [Info] Number of positive: 2128, number of negative: 1287\n",
      "[LightGBM] [Info] Auto-choosing row-wise multi-threading, the overhead of testing was 0.002817 seconds.\n",
      "You can set `force_row_wise=true` to remove the overhead.\n",
      "And if memory is not enough, you can set `force_col_wise=true`.\n",
      "[LightGBM] [Info] Total Bins 1443\n",
      "[LightGBM] [Info] Number of data points in the train set: 3415, number of used features: 11\n",
      "[LightGBM] [Info] [binary:BoostFromScore]: pavg=0.623133 -> initscore=0.502869\n",
      "[LightGBM] [Info] Start training from score 0.502869\n",
      "[LightGBM] [Warning] No further splits with positive gain, best gain: -inf\n",
      "[LightGBM] [Warning] No further splits with positive gain, best gain: -inf\n",
      "[LightGBM] [Warning] No further splits with positive gain, best gain: -inf\n",
      "[LightGBM] [Warning] No further splits with positive gain, best gain: -inf\n",
      "[LightGBM] [Warning] No further splits with positive gain, best gain: -inf\n",
      "[LightGBM] [Warning] No further splits with positive gain, best gain: -inf\n",
      "[LightGBM] [Warning] No further splits with positive gain, best gain: -inf\n",
      "[LightGBM] [Warning] No further splits with positive gain, best gain: -inf\n",
      "[LightGBM] [Warning] No further splits with positive gain, best gain: -inf\n",
      "[LightGBM] [Warning] No further splits with positive gain, best gain: -inf\n",
      "[LightGBM] [Warning] No further splits with positive gain, best gain: -inf\n",
      "[LightGBM] [Warning] No further splits with positive gain, best gain: -inf\n",
      "[LightGBM] [Warning] No further splits with positive gain, best gain: -inf\n",
      "[LightGBM] [Warning] No further splits with positive gain, best gain: -inf\n",
      "[LightGBM] [Warning] No further splits with positive gain, best gain: -inf\n",
      "[LightGBM] [Warning] No further splits with positive gain, best gain: -inf\n",
      "[LightGBM] [Warning] No further splits with positive gain, best gain: -inf\n",
      "[LightGBM] [Warning] No further splits with positive gain, best gain: -inf\n",
      "[LightGBM] [Warning] No further splits with positive gain, best gain: -inf\n",
      "[LightGBM] [Warning] No further splits with positive gain, best gain: -inf\n",
      "[LightGBM] [Warning] No further splits with positive gain, best gain: -inf\n",
      "[LightGBM] [Warning] No further splits with positive gain, best gain: -inf\n",
      "[LightGBM] [Warning] Found whitespace in feature_names, replace with underlines\n",
      "[LightGBM] [Info] Number of positive: 1703, number of negative: 1029\n",
      "[LightGBM] [Info] Auto-choosing row-wise multi-threading, the overhead of testing was 0.000106 seconds.\n",
      "You can set `force_row_wise=true` to remove the overhead.\n",
      "And if memory is not enough, you can set `force_col_wise=true`.\n",
      "[LightGBM] [Info] Total Bins 1427\n",
      "[LightGBM] [Info] Number of data points in the train set: 2732, number of used features: 11\n",
      "[LightGBM] [Info] [binary:BoostFromScore]: pavg=0.623353 -> initscore=0.503804\n",
      "[LightGBM] [Info] Start training from score 0.503804\n",
      "[LightGBM] [Warning] No further splits with positive gain, best gain: -inf\n",
      "[LightGBM] [Warning] No further splits with positive gain, best gain: -inf\n",
      "[LightGBM] [Warning] No further splits with positive gain, best gain: -inf\n",
      "[LightGBM] [Warning] No further splits with positive gain, best gain: -inf\n",
      "[LightGBM] [Warning] No further splits with positive gain, best gain: -inf\n",
      "[LightGBM] [Warning] No further splits with positive gain, best gain: -inf\n",
      "[LightGBM] [Warning] No further splits with positive gain, best gain: -inf\n",
      "[LightGBM] [Warning] No further splits with positive gain, best gain: -inf\n",
      "[LightGBM] [Warning] No further splits with positive gain, best gain: -inf\n",
      "[LightGBM] [Warning] No further splits with positive gain, best gain: -inf\n",
      "[LightGBM] [Warning] No further splits with positive gain, best gain: -inf\n",
      "[LightGBM] [Warning] No further splits with positive gain, best gain: -inf\n",
      "[LightGBM] [Warning] No further splits with positive gain, best gain: -inf\n",
      "[LightGBM] [Warning] No further splits with positive gain, best gain: -inf\n",
      "[LightGBM] [Warning] No further splits with positive gain, best gain: -inf\n",
      "[LightGBM] [Warning] No further splits with positive gain, best gain: -inf\n",
      "[LightGBM] [Warning] No further splits with positive gain, best gain: -inf\n",
      "[LightGBM] [Warning] Found whitespace in feature_names, replace with underlines\n",
      "[LightGBM] [Info] Number of positive: 1703, number of negative: 1029\n",
      "[LightGBM] [Info] Auto-choosing row-wise multi-threading, the overhead of testing was 0.000118 seconds.\n",
      "You can set `force_row_wise=true` to remove the overhead.\n",
      "And if memory is not enough, you can set `force_col_wise=true`.\n",
      "[LightGBM] [Info] Total Bins 1433\n",
      "[LightGBM] [Info] Number of data points in the train set: 2732, number of used features: 11\n",
      "[LightGBM] [Info] [binary:BoostFromScore]: pavg=0.623353 -> initscore=0.503804\n",
      "[LightGBM] [Info] Start training from score 0.503804\n",
      "[LightGBM] [Warning] No further splits with positive gain, best gain: -inf\n",
      "[LightGBM] [Warning] No further splits with positive gain, best gain: -inf\n",
      "[LightGBM] [Warning] No further splits with positive gain, best gain: -inf\n",
      "[LightGBM] [Warning] No further splits with positive gain, best gain: -inf\n",
      "[LightGBM] [Warning] No further splits with positive gain, best gain: -inf\n",
      "[LightGBM] [Warning] No further splits with positive gain, best gain: -inf\n",
      "[LightGBM] [Warning] No further splits with positive gain, best gain: -inf\n",
      "[LightGBM] [Warning] No further splits with positive gain, best gain: -inf\n",
      "[LightGBM] [Warning] No further splits with positive gain, best gain: -inf\n",
      "[LightGBM] [Warning] No further splits with positive gain, best gain: -inf\n",
      "[LightGBM] [Warning] No further splits with positive gain, best gain: -inf\n",
      "[LightGBM] [Warning] No further splits with positive gain, best gain: -inf\n",
      "[LightGBM] [Warning] No further splits with positive gain, best gain: -inf\n",
      "[LightGBM] [Warning] No further splits with positive gain, best gain: -inf\n",
      "[LightGBM] [Warning] No further splits with positive gain, best gain: -inf\n",
      "[LightGBM] [Warning] No further splits with positive gain, best gain: -inf\n",
      "[LightGBM] [Warning] No further splits with positive gain, best gain: -inf\n",
      "[LightGBM] [Warning] No further splits with positive gain, best gain: -inf\n",
      "[LightGBM] [Warning] No further splits with positive gain, best gain: -inf\n",
      "[LightGBM] [Warning] No further splits with positive gain, best gain: -inf\n",
      "[LightGBM] [Warning] No further splits with positive gain, best gain: -inf\n",
      "[LightGBM] [Warning] No further splits with positive gain, best gain: -inf\n",
      "[LightGBM] [Warning] No further splits with positive gain, best gain: -inf\n",
      "[LightGBM] [Warning] No further splits with positive gain, best gain: -inf\n",
      "[LightGBM] [Warning] Found whitespace in feature_names, replace with underlines\n",
      "[LightGBM] [Info] Number of positive: 1702, number of negative: 1030\n",
      "[LightGBM] [Info] Auto-choosing row-wise multi-threading, the overhead of testing was 0.000106 seconds.\n",
      "You can set `force_row_wise=true` to remove the overhead.\n",
      "And if memory is not enough, you can set `force_col_wise=true`.\n",
      "[LightGBM] [Info] Total Bins 1436\n",
      "[LightGBM] [Info] Number of data points in the train set: 2732, number of used features: 11\n",
      "[LightGBM] [Info] [binary:BoostFromScore]: pavg=0.622987 -> initscore=0.502245\n",
      "[LightGBM] [Info] Start training from score 0.502245\n",
      "[LightGBM] [Warning] No further splits with positive gain, best gain: -inf\n",
      "[LightGBM] [Warning] No further splits with positive gain, best gain: -inf\n",
      "[LightGBM] [Warning] No further splits with positive gain, best gain: -inf\n",
      "[LightGBM] [Warning] No further splits with positive gain, best gain: -inf\n",
      "[LightGBM] [Warning] No further splits with positive gain, best gain: -inf\n",
      "[LightGBM] [Warning] No further splits with positive gain, best gain: -inf\n",
      "[LightGBM] [Warning] No further splits with positive gain, best gain: -inf\n",
      "[LightGBM] [Warning] No further splits with positive gain, best gain: -inf\n",
      "[LightGBM] [Warning] No further splits with positive gain, best gain: -inf\n",
      "[LightGBM] [Warning] No further splits with positive gain, best gain: -inf\n",
      "[LightGBM] [Warning] No further splits with positive gain, best gain: -inf\n",
      "[LightGBM] [Warning] No further splits with positive gain, best gain: -inf\n",
      "[LightGBM] [Warning] No further splits with positive gain, best gain: -inf\n",
      "[LightGBM] [Warning] No further splits with positive gain, best gain: -inf\n",
      "[LightGBM] [Warning] No further splits with positive gain, best gain: -inf\n",
      "[LightGBM] [Warning] No further splits with positive gain, best gain: -inf\n",
      "[LightGBM] [Warning] No further splits with positive gain, best gain: -inf\n",
      "[LightGBM] [Warning] No further splits with positive gain, best gain: -inf\n",
      "[LightGBM] [Warning] No further splits with positive gain, best gain: -inf\n",
      "[LightGBM] [Warning] No further splits with positive gain, best gain: -inf\n",
      "[LightGBM] [Warning] No further splits with positive gain, best gain: -inf\n",
      "[LightGBM] [Warning] No further splits with positive gain, best gain: -inf\n",
      "[LightGBM] [Warning] No further splits with positive gain, best gain: -inf\n",
      "[LightGBM] [Warning] Found whitespace in feature_names, replace with underlines\n",
      "[LightGBM] [Info] Number of positive: 1702, number of negative: 1030\n",
      "[LightGBM] [Info] Auto-choosing row-wise multi-threading, the overhead of testing was 0.000107 seconds.\n",
      "You can set `force_row_wise=true` to remove the overhead.\n",
      "And if memory is not enough, you can set `force_col_wise=true`.\n",
      "[LightGBM] [Info] Total Bins 1433\n",
      "[LightGBM] [Info] Number of data points in the train set: 2732, number of used features: 11\n",
      "[LightGBM] [Info] [binary:BoostFromScore]: pavg=0.622987 -> initscore=0.502245\n",
      "[LightGBM] [Info] Start training from score 0.502245\n",
      "[LightGBM] [Warning] No further splits with positive gain, best gain: -inf\n",
      "[LightGBM] [Warning] No further splits with positive gain, best gain: -inf\n",
      "[LightGBM] [Warning] No further splits with positive gain, best gain: -inf\n",
      "[LightGBM] [Warning] No further splits with positive gain, best gain: -inf\n",
      "[LightGBM] [Warning] No further splits with positive gain, best gain: -inf\n",
      "[LightGBM] [Warning] No further splits with positive gain, best gain: -inf\n",
      "[LightGBM] [Warning] No further splits with positive gain, best gain: -inf\n",
      "[LightGBM] [Warning] No further splits with positive gain, best gain: -inf\n",
      "[LightGBM] [Warning] No further splits with positive gain, best gain: -inf\n",
      "[LightGBM] [Warning] No further splits with positive gain, best gain: -inf\n",
      "[LightGBM] [Warning] No further splits with positive gain, best gain: -inf\n",
      "[LightGBM] [Warning] No further splits with positive gain, best gain: -inf\n",
      "[LightGBM] [Warning] No further splits with positive gain, best gain: -inf\n",
      "[LightGBM] [Warning] No further splits with positive gain, best gain: -inf\n",
      "[LightGBM] [Warning] No further splits with positive gain, best gain: -inf\n",
      "[LightGBM] [Warning] No further splits with positive gain, best gain: -inf\n",
      "[LightGBM] [Warning] No further splits with positive gain, best gain: -inf\n",
      "[LightGBM] [Warning] No further splits with positive gain, best gain: -inf\n",
      "[LightGBM] [Warning] No further splits with positive gain, best gain: -inf\n",
      "[LightGBM] [Warning] No further splits with positive gain, best gain: -inf\n",
      "[LightGBM] [Warning] No further splits with positive gain, best gain: -inf\n",
      "[LightGBM] [Warning] No further splits with positive gain, best gain: -inf\n",
      "[LightGBM] [Warning] No further splits with positive gain, best gain: -inf\n",
      "[LightGBM] [Warning] No further splits with positive gain, best gain: -inf\n",
      "[LightGBM] [Warning] No further splits with positive gain, best gain: -inf\n",
      "[LightGBM] [Warning] No further splits with positive gain, best gain: -inf\n",
      "[LightGBM] [Warning] No further splits with positive gain, best gain: -inf\n",
      "[LightGBM] [Warning] No further splits with positive gain, best gain: -inf\n",
      "[LightGBM] [Warning] No further splits with positive gain, best gain: -inf\n",
      "[LightGBM] [Warning] No further splits with positive gain, best gain: -inf\n",
      "[LightGBM] [Warning] No further splits with positive gain, best gain: -inf\n",
      "[LightGBM] [Warning] No further splits with positive gain, best gain: -inf\n",
      "[LightGBM] [Warning] No further splits with positive gain, best gain: -inf\n",
      "[LightGBM] [Warning] No further splits with positive gain, best gain: -inf\n",
      "[LightGBM] [Warning] No further splits with positive gain, best gain: -inf\n",
      "[LightGBM] [Warning] No further splits with positive gain, best gain: -inf\n",
      "[LightGBM] [Warning] No further splits with positive gain, best gain: -inf\n",
      "[LightGBM] [Warning] No further splits with positive gain, best gain: -inf\n",
      "[LightGBM] [Warning] No further splits with positive gain, best gain: -inf\n",
      "[LightGBM] [Warning] Found whitespace in feature_names, replace with underlines\n",
      "[LightGBM] [Info] Number of positive: 1702, number of negative: 1030\n",
      "[LightGBM] [Info] Auto-choosing row-wise multi-threading, the overhead of testing was 0.000106 seconds.\n",
      "You can set `force_row_wise=true` to remove the overhead.\n",
      "And if memory is not enough, you can set `force_col_wise=true`.\n",
      "[LightGBM] [Info] Total Bins 1433\n",
      "[LightGBM] [Info] Number of data points in the train set: 2732, number of used features: 11\n",
      "[LightGBM] [Info] [binary:BoostFromScore]: pavg=0.622987 -> initscore=0.502245\n",
      "[LightGBM] [Info] Start training from score 0.502245\n",
      "[LightGBM] [Warning] No further splits with positive gain, best gain: -inf\n",
      "[LightGBM] [Warning] No further splits with positive gain, best gain: -inf\n",
      "[LightGBM] [Warning] No further splits with positive gain, best gain: -inf\n",
      "[LightGBM] [Warning] No further splits with positive gain, best gain: -inf\n",
      "[LightGBM] [Warning] No further splits with positive gain, best gain: -inf\n",
      "[LightGBM] [Warning] No further splits with positive gain, best gain: -inf\n",
      "[LightGBM] [Warning] No further splits with positive gain, best gain: -inf\n",
      "[LightGBM] [Warning] No further splits with positive gain, best gain: -inf\n",
      "[LightGBM] [Warning] No further splits with positive gain, best gain: -inf\n",
      "[LightGBM] [Warning] No further splits with positive gain, best gain: -inf\n",
      "[LightGBM] [Warning] No further splits with positive gain, best gain: -inf\n",
      "[LightGBM] [Warning] No further splits with positive gain, best gain: -inf\n",
      "[LightGBM] [Warning] No further splits with positive gain, best gain: -inf\n",
      "[LightGBM] [Warning] No further splits with positive gain, best gain: -inf\n",
      "[LightGBM] [Warning] No further splits with positive gain, best gain: -inf\n",
      "[LightGBM] [Warning] No further splits with positive gain, best gain: -inf\n",
      "[LightGBM] [Warning] No further splits with positive gain, best gain: -inf\n",
      "[LightGBM] [Warning] No further splits with positive gain, best gain: -inf\n",
      "[LightGBM] [Warning] No further splits with positive gain, best gain: -inf\n",
      "[LightGBM] [Warning] No further splits with positive gain, best gain: -inf\n",
      "[LightGBM] [Warning] No further splits with positive gain, best gain: -inf\n",
      "[LightGBM] [Warning] No further splits with positive gain, best gain: -inf\n",
      "[LightGBM] [Warning] No further splits with positive gain, best gain: -inf\n",
      "[LightGBM] [Warning] No further splits with positive gain, best gain: -inf\n",
      "[LightGBM] [Warning] No further splits with positive gain, best gain: -inf\n",
      "[LightGBM] [Warning] No further splits with positive gain, best gain: -inf\n",
      "[LightGBM] [Warning] No further splits with positive gain, best gain: -inf\n",
      "[LightGBM] [Warning] No further splits with positive gain, best gain: -inf\n",
      "[LightGBM] [Warning] No further splits with positive gain, best gain: -inf\n",
      "[LightGBM] [Warning] No further splits with positive gain, best gain: -inf\n",
      "[LightGBM] [Warning] No further splits with positive gain, best gain: -inf\n",
      "[LightGBM] [Warning] No further splits with positive gain, best gain: -inf\n",
      "[LightGBM] [Warning] No further splits with positive gain, best gain: -inf\n",
      "[LightGBM] [Warning] No further splits with positive gain, best gain: -inf\n",
      "[LightGBM] [Warning] No further splits with positive gain, best gain: -inf\n",
      "[LightGBM] [Warning] No further splits with positive gain, best gain: -inf\n",
      "[LightGBM] [Warning] No further splits with positive gain, best gain: -inf\n",
      "[LightGBM] [Warning] No further splits with positive gain, best gain: -inf\n",
      "[LightGBM] [Warning] No further splits with positive gain, best gain: -inf\n",
      "[LightGBM] [Warning] No further splits with positive gain, best gain: -inf\n",
      "[LightGBM] [Warning] No further splits with positive gain, best gain: -inf\n",
      "Training and evaluating SVC...\n",
      "Training and evaluating KNN...\n",
      "Training and evaluating Naive Bayes...\n",
      "Training and evaluating MLP...\n",
      "Training and evaluating AdaBoost...\n",
      "Training and evaluating Extra Trees...\n"
     ]
    },
    {
     "data": {
      "text/html": [
       "<div>\n",
       "<style scoped>\n",
       "    .dataframe tbody tr th:only-of-type {\n",
       "        vertical-align: middle;\n",
       "    }\n",
       "\n",
       "    .dataframe tbody tr th {\n",
       "        vertical-align: top;\n",
       "    }\n",
       "\n",
       "    .dataframe thead th {\n",
       "        text-align: right;\n",
       "    }\n",
       "</style>\n",
       "<table border=\"1\" class=\"dataframe\">\n",
       "  <thead>\n",
       "    <tr style=\"text-align: right;\">\n",
       "      <th></th>\n",
       "      <th>CV Accuracy</th>\n",
       "      <th>Test Accuracy</th>\n",
       "      <th>Precision</th>\n",
       "      <th>Recall</th>\n",
       "      <th>F1 Score</th>\n",
       "      <th>ROC-AUC</th>\n",
       "      <th>Confusion Matrix</th>\n",
       "    </tr>\n",
       "  </thead>\n",
       "  <tbody>\n",
       "    <tr>\n",
       "      <th>XGBoost</th>\n",
       "      <td>0.98243</td>\n",
       "      <td>0.987119</td>\n",
       "      <td>0.984991</td>\n",
       "      <td>0.994318</td>\n",
       "      <td>0.989632</td>\n",
       "      <td>0.998856</td>\n",
       "      <td>[318, 8, 3, 525]</td>\n",
       "    </tr>\n",
       "    <tr>\n",
       "      <th>LightGBM</th>\n",
       "      <td>0.985066</td>\n",
       "      <td>0.987119</td>\n",
       "      <td>0.984991</td>\n",
       "      <td>0.994318</td>\n",
       "      <td>0.989632</td>\n",
       "      <td>0.99907</td>\n",
       "      <td>[318, 8, 3, 525]</td>\n",
       "    </tr>\n",
       "    <tr>\n",
       "      <th>Decision Tree</th>\n",
       "      <td>0.974817</td>\n",
       "      <td>0.981265</td>\n",
       "      <td>0.986692</td>\n",
       "      <td>0.982955</td>\n",
       "      <td>0.98482</td>\n",
       "      <td>0.980741</td>\n",
       "      <td>[319, 7, 9, 519]</td>\n",
       "    </tr>\n",
       "    <tr>\n",
       "      <th>Random Forest</th>\n",
       "      <td>0.980381</td>\n",
       "      <td>0.978923</td>\n",
       "      <td>0.982955</td>\n",
       "      <td>0.982955</td>\n",
       "      <td>0.982955</td>\n",
       "      <td>0.997287</td>\n",
       "      <td>[317, 9, 9, 519]</td>\n",
       "    </tr>\n",
       "    <tr>\n",
       "      <th>AdaBoost</th>\n",
       "      <td>0.966618</td>\n",
       "      <td>0.970726</td>\n",
       "      <td>0.973635</td>\n",
       "      <td>0.979167</td>\n",
       "      <td>0.976393</td>\n",
       "      <td>0.994678</td>\n",
       "      <td>[312, 14, 11, 517]</td>\n",
       "    </tr>\n",
       "    <tr>\n",
       "      <th>Extra Trees</th>\n",
       "      <td>0.960469</td>\n",
       "      <td>0.961358</td>\n",
       "      <td>0.973231</td>\n",
       "      <td>0.964015</td>\n",
       "      <td>0.968601</td>\n",
       "      <td>0.990995</td>\n",
       "      <td>[312, 14, 19, 509]</td>\n",
       "    </tr>\n",
       "    <tr>\n",
       "      <th>Naive Bayes</th>\n",
       "      <td>0.755198</td>\n",
       "      <td>0.777518</td>\n",
       "      <td>0.744928</td>\n",
       "      <td>0.973485</td>\n",
       "      <td>0.844007</td>\n",
       "      <td>0.955719</td>\n",
       "      <td>[150, 176, 14, 514]</td>\n",
       "    </tr>\n",
       "    <tr>\n",
       "      <th>SVC</th>\n",
       "      <td>0.623133</td>\n",
       "      <td>0.618267</td>\n",
       "      <td>0.618267</td>\n",
       "      <td>1.0</td>\n",
       "      <td>0.76411</td>\n",
       "      <td>0.532737</td>\n",
       "      <td>[0, 326, 0, 528]</td>\n",
       "    </tr>\n",
       "    <tr>\n",
       "      <th>Logistic Regression</th>\n",
       "      <td>0.623426</td>\n",
       "      <td>0.618267</td>\n",
       "      <td>0.618545</td>\n",
       "      <td>0.998106</td>\n",
       "      <td>0.763768</td>\n",
       "      <td>0.517371</td>\n",
       "      <td>[1, 325, 1, 527]</td>\n",
       "    </tr>\n",
       "    <tr>\n",
       "      <th>KNN</th>\n",
       "      <td>0.562225</td>\n",
       "      <td>0.579625</td>\n",
       "      <td>0.635634</td>\n",
       "      <td>0.75</td>\n",
       "      <td>0.688097</td>\n",
       "      <td>0.538907</td>\n",
       "      <td>[99, 227, 132, 396]</td>\n",
       "    </tr>\n",
       "    <tr>\n",
       "      <th>MLP</th>\n",
       "      <td>0.549048</td>\n",
       "      <td>0.482436</td>\n",
       "      <td>0.659259</td>\n",
       "      <td>0.337121</td>\n",
       "      <td>0.446115</td>\n",
       "      <td>0.525841</td>\n",
       "      <td>[234, 92, 350, 178]</td>\n",
       "    </tr>\n",
       "  </tbody>\n",
       "</table>\n",
       "</div>"
      ],
      "text/plain": [
       "                    CV Accuracy Test Accuracy Precision    Recall  F1 Score  \\\n",
       "XGBoost                 0.98243      0.987119  0.984991  0.994318  0.989632   \n",
       "LightGBM               0.985066      0.987119  0.984991  0.994318  0.989632   \n",
       "Decision Tree          0.974817      0.981265  0.986692  0.982955   0.98482   \n",
       "Random Forest          0.980381      0.978923  0.982955  0.982955  0.982955   \n",
       "AdaBoost               0.966618      0.970726  0.973635  0.979167  0.976393   \n",
       "Extra Trees            0.960469      0.961358  0.973231  0.964015  0.968601   \n",
       "Naive Bayes            0.755198      0.777518  0.744928  0.973485  0.844007   \n",
       "SVC                    0.623133      0.618267  0.618267       1.0   0.76411   \n",
       "Logistic Regression    0.623426      0.618267  0.618545  0.998106  0.763768   \n",
       "KNN                    0.562225      0.579625  0.635634      0.75  0.688097   \n",
       "MLP                    0.549048      0.482436  0.659259  0.337121  0.446115   \n",
       "\n",
       "                      ROC-AUC     Confusion Matrix  \n",
       "XGBoost              0.998856     [318, 8, 3, 525]  \n",
       "LightGBM              0.99907     [318, 8, 3, 525]  \n",
       "Decision Tree        0.980741     [319, 7, 9, 519]  \n",
       "Random Forest        0.997287     [317, 9, 9, 519]  \n",
       "AdaBoost             0.994678   [312, 14, 11, 517]  \n",
       "Extra Trees          0.990995   [312, 14, 19, 509]  \n",
       "Naive Bayes          0.955719  [150, 176, 14, 514]  \n",
       "SVC                  0.532737     [0, 326, 0, 528]  \n",
       "Logistic Regression  0.517371     [1, 325, 1, 527]  \n",
       "KNN                  0.538907  [99, 227, 132, 396]  \n",
       "MLP                  0.525841  [234, 92, 350, 178]  "
      ]
     },
     "execution_count": 45,
     "metadata": {},
     "output_type": "execute_result"
    }
   ],
   "source": [
    "from tabulate import tabulate\n",
    "import warnings\n",
    "\n",
    "warnings.filterwarnings('ignore')\n",
    "\n",
    "results = {}\n",
    "\n",
    "for model_name, model in models.items():\n",
    "    print(f\"Training and evaluating {model_name}...\")\n",
    "    metrics = evaluate_model(model, x_train, y_train, x_test, y_test)\n",
    "    results[model_name] = metrics\n",
    "\n",
    "results_df = pd.DataFrame(results).T\n",
    "\n",
    "results_df = results_df.sort_values(by='F1 Score', ascending=False)\n",
    "results_df"
   ]
  },
  {
   "cell_type": "markdown",
   "id": "e2e91fa0",
   "metadata": {
    "id": "ni3xJWfAnAM-",
    "papermill": {
     "duration": 0.028556,
     "end_time": "2024-12-07T05:01:56.376234",
     "exception": false,
     "start_time": "2024-12-07T05:01:56.347678",
     "status": "completed"
    },
    "tags": []
   },
   "source": [
    "* **The best performing model is: LightGBM**"
   ]
  },
  {
   "cell_type": "markdown",
   "id": "b6de8280",
   "metadata": {
    "id": "JcBM5Z4jWUx2",
    "papermill": {
     "duration": 0.027574,
     "end_time": "2024-12-07T05:01:56.432183",
     "exception": false,
     "start_time": "2024-12-07T05:01:56.404609",
     "status": "completed"
    },
    "tags": []
   },
   "source": [
    "# Model Generation"
   ]
  },
  {
   "cell_type": "code",
   "execution_count": 46,
   "id": "2e6ed91d",
   "metadata": {
    "execution": {
     "iopub.execute_input": "2024-12-07T05:01:56.489699Z",
     "iopub.status.busy": "2024-12-07T05:01:56.489314Z",
     "iopub.status.idle": "2024-12-07T05:01:56.592458Z",
     "shell.execute_reply": "2024-12-07T05:01:56.591310Z"
    },
    "id": "RSx-zRZOXhjn",
    "outputId": "910711b4-5d5b-44c7-d1b1-8984f67ae933",
    "papermill": {
     "duration": 0.134798,
     "end_time": "2024-12-07T05:01:56.594868",
     "exception": false,
     "start_time": "2024-12-07T05:01:56.460070",
     "status": "completed"
    },
    "tags": []
   },
   "outputs": [
    {
     "name": "stdout",
     "output_type": "stream",
     "text": [
      "[LightGBM] [Warning] Found whitespace in feature_names, replace with underlines\n",
      "[LightGBM] [Info] Number of positive: 2128, number of negative: 1287\n",
      "[LightGBM] [Info] Auto-choosing row-wise multi-threading, the overhead of testing was 0.000134 seconds.\n",
      "You can set `force_row_wise=true` to remove the overhead.\n",
      "And if memory is not enough, you can set `force_col_wise=true`.\n",
      "[LightGBM] [Info] Total Bins 1443\n",
      "[LightGBM] [Info] Number of data points in the train set: 3415, number of used features: 11\n",
      "[LightGBM] [Info] [binary:BoostFromScore]: pavg=0.623133 -> initscore=0.502869\n",
      "[LightGBM] [Info] Start training from score 0.502869\n",
      "[LightGBM] [Warning] No further splits with positive gain, best gain: -inf\n",
      "[LightGBM] [Warning] No further splits with positive gain, best gain: -inf\n",
      "[LightGBM] [Warning] No further splits with positive gain, best gain: -inf\n",
      "[LightGBM] [Warning] No further splits with positive gain, best gain: -inf\n",
      "[LightGBM] [Warning] No further splits with positive gain, best gain: -inf\n",
      "[LightGBM] [Warning] No further splits with positive gain, best gain: -inf\n",
      "[LightGBM] [Warning] No further splits with positive gain, best gain: -inf\n",
      "[LightGBM] [Warning] No further splits with positive gain, best gain: -inf\n",
      "[LightGBM] [Warning] No further splits with positive gain, best gain: -inf\n",
      "[LightGBM] [Warning] No further splits with positive gain, best gain: -inf\n",
      "[LightGBM] [Warning] No further splits with positive gain, best gain: -inf\n",
      "[LightGBM] [Warning] No further splits with positive gain, best gain: -inf\n",
      "[LightGBM] [Warning] No further splits with positive gain, best gain: -inf\n",
      "[LightGBM] [Warning] No further splits with positive gain, best gain: -inf\n",
      "[LightGBM] [Warning] No further splits with positive gain, best gain: -inf\n",
      "[LightGBM] [Warning] No further splits with positive gain, best gain: -inf\n",
      "[LightGBM] [Warning] No further splits with positive gain, best gain: -inf\n",
      "[LightGBM] [Warning] No further splits with positive gain, best gain: -inf\n",
      "[LightGBM] [Warning] No further splits with positive gain, best gain: -inf\n",
      "[LightGBM] [Warning] No further splits with positive gain, best gain: -inf\n",
      "[LightGBM] [Warning] No further splits with positive gain, best gain: -inf\n",
      "[LightGBM] [Warning] No further splits with positive gain, best gain: -inf\n"
     ]
    },
    {
     "data": {
      "text/html": [
       "<style>#sk-container-id-1 {color: black;background-color: white;}#sk-container-id-1 pre{padding: 0;}#sk-container-id-1 div.sk-toggleable {background-color: white;}#sk-container-id-1 label.sk-toggleable__label {cursor: pointer;display: block;width: 100%;margin-bottom: 0;padding: 0.3em;box-sizing: border-box;text-align: center;}#sk-container-id-1 label.sk-toggleable__label-arrow:before {content: \"▸\";float: left;margin-right: 0.25em;color: #696969;}#sk-container-id-1 label.sk-toggleable__label-arrow:hover:before {color: black;}#sk-container-id-1 div.sk-estimator:hover label.sk-toggleable__label-arrow:before {color: black;}#sk-container-id-1 div.sk-toggleable__content {max-height: 0;max-width: 0;overflow: hidden;text-align: left;background-color: #f0f8ff;}#sk-container-id-1 div.sk-toggleable__content pre {margin: 0.2em;color: black;border-radius: 0.25em;background-color: #f0f8ff;}#sk-container-id-1 input.sk-toggleable__control:checked~div.sk-toggleable__content {max-height: 200px;max-width: 100%;overflow: auto;}#sk-container-id-1 input.sk-toggleable__control:checked~label.sk-toggleable__label-arrow:before {content: \"▾\";}#sk-container-id-1 div.sk-estimator input.sk-toggleable__control:checked~label.sk-toggleable__label {background-color: #d4ebff;}#sk-container-id-1 div.sk-label input.sk-toggleable__control:checked~label.sk-toggleable__label {background-color: #d4ebff;}#sk-container-id-1 input.sk-hidden--visually {border: 0;clip: rect(1px 1px 1px 1px);clip: rect(1px, 1px, 1px, 1px);height: 1px;margin: -1px;overflow: hidden;padding: 0;position: absolute;width: 1px;}#sk-container-id-1 div.sk-estimator {font-family: monospace;background-color: #f0f8ff;border: 1px dotted black;border-radius: 0.25em;box-sizing: border-box;margin-bottom: 0.5em;}#sk-container-id-1 div.sk-estimator:hover {background-color: #d4ebff;}#sk-container-id-1 div.sk-parallel-item::after {content: \"\";width: 100%;border-bottom: 1px solid gray;flex-grow: 1;}#sk-container-id-1 div.sk-label:hover label.sk-toggleable__label {background-color: #d4ebff;}#sk-container-id-1 div.sk-serial::before {content: \"\";position: absolute;border-left: 1px solid gray;box-sizing: border-box;top: 0;bottom: 0;left: 50%;z-index: 0;}#sk-container-id-1 div.sk-serial {display: flex;flex-direction: column;align-items: center;background-color: white;padding-right: 0.2em;padding-left: 0.2em;position: relative;}#sk-container-id-1 div.sk-item {position: relative;z-index: 1;}#sk-container-id-1 div.sk-parallel {display: flex;align-items: stretch;justify-content: center;background-color: white;position: relative;}#sk-container-id-1 div.sk-item::before, #sk-container-id-1 div.sk-parallel-item::before {content: \"\";position: absolute;border-left: 1px solid gray;box-sizing: border-box;top: 0;bottom: 0;left: 50%;z-index: -1;}#sk-container-id-1 div.sk-parallel-item {display: flex;flex-direction: column;z-index: 1;position: relative;background-color: white;}#sk-container-id-1 div.sk-parallel-item:first-child::after {align-self: flex-end;width: 50%;}#sk-container-id-1 div.sk-parallel-item:last-child::after {align-self: flex-start;width: 50%;}#sk-container-id-1 div.sk-parallel-item:only-child::after {width: 0;}#sk-container-id-1 div.sk-dashed-wrapped {border: 1px dashed gray;margin: 0 0.4em 0.5em 0.4em;box-sizing: border-box;padding-bottom: 0.4em;background-color: white;}#sk-container-id-1 div.sk-label label {font-family: monospace;font-weight: bold;display: inline-block;line-height: 1.2em;}#sk-container-id-1 div.sk-label-container {text-align: center;}#sk-container-id-1 div.sk-container {/* jupyter's `normalize.less` sets `[hidden] { display: none; }` but bootstrap.min.css set `[hidden] { display: none !important; }` so we also need the `!important` here to be able to override the default hidden behavior on the sphinx rendered scikit-learn.org. See: https://github.com/scikit-learn/scikit-learn/issues/21755 */display: inline-block !important;position: relative;}#sk-container-id-1 div.sk-text-repr-fallback {display: none;}</style><div id=\"sk-container-id-1\" class=\"sk-top-container\"><div class=\"sk-text-repr-fallback\"><pre>LGBMClassifier()</pre><b>In a Jupyter environment, please rerun this cell to show the HTML representation or trust the notebook. <br />On GitHub, the HTML representation is unable to render, please try loading this page with nbviewer.org.</b></div><div class=\"sk-container\" hidden><div class=\"sk-item\"><div class=\"sk-estimator sk-toggleable\"><input class=\"sk-toggleable__control sk-hidden--visually\" id=\"sk-estimator-id-1\" type=\"checkbox\" checked><label for=\"sk-estimator-id-1\" class=\"sk-toggleable__label sk-toggleable__label-arrow\">LGBMClassifier</label><div class=\"sk-toggleable__content\"><pre>LGBMClassifier()</pre></div></div></div></div></div>"
      ],
      "text/plain": [
       "LGBMClassifier()"
      ]
     },
     "execution_count": 46,
     "metadata": {},
     "output_type": "execute_result"
    }
   ],
   "source": [
    "model = LGBMClassifier()\n",
    "model.fit(x_train, y_train)"
   ]
  },
  {
   "cell_type": "markdown",
   "id": "998327b3",
   "metadata": {
    "id": "B7oABXlBxnea",
    "papermill": {
     "duration": 0.029228,
     "end_time": "2024-12-07T05:01:56.654379",
     "exception": false,
     "start_time": "2024-12-07T05:01:56.625151",
     "status": "completed"
    },
    "tags": []
   },
   "source": [
    "# Prediction"
   ]
  },
  {
   "cell_type": "code",
   "execution_count": 47,
   "id": "4ea53a0a",
   "metadata": {
    "execution": {
     "iopub.execute_input": "2024-12-07T05:01:56.713917Z",
     "iopub.status.busy": "2024-12-07T05:01:56.713501Z",
     "iopub.status.idle": "2024-12-07T05:01:56.727618Z",
     "shell.execute_reply": "2024-12-07T05:01:56.726342Z"
    },
    "id": "A8PvmMEJ-Zbk",
    "outputId": "650296a8-d772-470b-cb73-1a27798c235c",
    "papermill": {
     "duration": 0.046679,
     "end_time": "2024-12-07T05:01:56.729924",
     "exception": false,
     "start_time": "2024-12-07T05:01:56.683245",
     "status": "completed"
    },
    "tags": []
   },
   "outputs": [
    {
     "data": {
      "text/html": [
       "<div>\n",
       "<style scoped>\n",
       "    .dataframe tbody tr th:only-of-type {\n",
       "        vertical-align: middle;\n",
       "    }\n",
       "\n",
       "    .dataframe tbody tr th {\n",
       "        vertical-align: top;\n",
       "    }\n",
       "\n",
       "    .dataframe thead th {\n",
       "        text-align: right;\n",
       "    }\n",
       "</style>\n",
       "<table border=\"1\" class=\"dataframe\">\n",
       "  <thead>\n",
       "    <tr style=\"text-align: right;\">\n",
       "      <th></th>\n",
       "      <th>no_of_dependents</th>\n",
       "      <th>education</th>\n",
       "      <th>self_employed</th>\n",
       "      <th>income_annum</th>\n",
       "      <th>loan_amount</th>\n",
       "      <th>loan_term</th>\n",
       "      <th>cibil_score</th>\n",
       "      <th>residential_assets_value</th>\n",
       "      <th>commercial_assets_value</th>\n",
       "      <th>luxury_assets_value</th>\n",
       "      <th>bank_asset_value</th>\n",
       "    </tr>\n",
       "  </thead>\n",
       "  <tbody>\n",
       "    <tr>\n",
       "      <th>790</th>\n",
       "      <td>5</td>\n",
       "      <td>0</td>\n",
       "      <td>1</td>\n",
       "      <td>4600000</td>\n",
       "      <td>14500000</td>\n",
       "      <td>14</td>\n",
       "      <td>561</td>\n",
       "      <td>2300000</td>\n",
       "      <td>6200000</td>\n",
       "      <td>10200000</td>\n",
       "      <td>5800000</td>\n",
       "    </tr>\n",
       "    <tr>\n",
       "      <th>188</th>\n",
       "      <td>5</td>\n",
       "      <td>0</td>\n",
       "      <td>1</td>\n",
       "      <td>7300000</td>\n",
       "      <td>23300000</td>\n",
       "      <td>6</td>\n",
       "      <td>622</td>\n",
       "      <td>7100000</td>\n",
       "      <td>11600000</td>\n",
       "      <td>26400000</td>\n",
       "      <td>10500000</td>\n",
       "    </tr>\n",
       "    <tr>\n",
       "      <th>2761</th>\n",
       "      <td>4</td>\n",
       "      <td>0</td>\n",
       "      <td>0</td>\n",
       "      <td>7900000</td>\n",
       "      <td>25700000</td>\n",
       "      <td>18</td>\n",
       "      <td>589</td>\n",
       "      <td>4300000</td>\n",
       "      <td>300000</td>\n",
       "      <td>25300000</td>\n",
       "      <td>9800000</td>\n",
       "    </tr>\n",
       "    <tr>\n",
       "      <th>2857</th>\n",
       "      <td>4</td>\n",
       "      <td>1</td>\n",
       "      <td>1</td>\n",
       "      <td>5600000</td>\n",
       "      <td>13000000</td>\n",
       "      <td>4</td>\n",
       "      <td>899</td>\n",
       "      <td>10500000</td>\n",
       "      <td>9100000</td>\n",
       "      <td>11400000</td>\n",
       "      <td>6400000</td>\n",
       "    </tr>\n",
       "    <tr>\n",
       "      <th>2403</th>\n",
       "      <td>1</td>\n",
       "      <td>0</td>\n",
       "      <td>0</td>\n",
       "      <td>9300000</td>\n",
       "      <td>27500000</td>\n",
       "      <td>6</td>\n",
       "      <td>364</td>\n",
       "      <td>12200000</td>\n",
       "      <td>13800000</td>\n",
       "      <td>25300000</td>\n",
       "      <td>10800000</td>\n",
       "    </tr>\n",
       "    <tr>\n",
       "      <th>...</th>\n",
       "      <td>...</td>\n",
       "      <td>...</td>\n",
       "      <td>...</td>\n",
       "      <td>...</td>\n",
       "      <td>...</td>\n",
       "      <td>...</td>\n",
       "      <td>...</td>\n",
       "      <td>...</td>\n",
       "      <td>...</td>\n",
       "      <td>...</td>\n",
       "      <td>...</td>\n",
       "    </tr>\n",
       "    <tr>\n",
       "      <th>618</th>\n",
       "      <td>3</td>\n",
       "      <td>0</td>\n",
       "      <td>1</td>\n",
       "      <td>2000000</td>\n",
       "      <td>6900000</td>\n",
       "      <td>6</td>\n",
       "      <td>834</td>\n",
       "      <td>2200000</td>\n",
       "      <td>2800000</td>\n",
       "      <td>6400000</td>\n",
       "      <td>3000000</td>\n",
       "    </tr>\n",
       "    <tr>\n",
       "      <th>2610</th>\n",
       "      <td>1</td>\n",
       "      <td>1</td>\n",
       "      <td>1</td>\n",
       "      <td>5800000</td>\n",
       "      <td>13000000</td>\n",
       "      <td>12</td>\n",
       "      <td>862</td>\n",
       "      <td>11300000</td>\n",
       "      <td>8400000</td>\n",
       "      <td>12000000</td>\n",
       "      <td>3900000</td>\n",
       "    </tr>\n",
       "    <tr>\n",
       "      <th>3176</th>\n",
       "      <td>4</td>\n",
       "      <td>0</td>\n",
       "      <td>1</td>\n",
       "      <td>3100000</td>\n",
       "      <td>8200000</td>\n",
       "      <td>18</td>\n",
       "      <td>408</td>\n",
       "      <td>2900000</td>\n",
       "      <td>3800000</td>\n",
       "      <td>10800000</td>\n",
       "      <td>3100000</td>\n",
       "    </tr>\n",
       "    <tr>\n",
       "      <th>2917</th>\n",
       "      <td>2</td>\n",
       "      <td>1</td>\n",
       "      <td>0</td>\n",
       "      <td>1700000</td>\n",
       "      <td>5700000</td>\n",
       "      <td>10</td>\n",
       "      <td>602</td>\n",
       "      <td>4900000</td>\n",
       "      <td>2700000</td>\n",
       "      <td>4500000</td>\n",
       "      <td>1800000</td>\n",
       "    </tr>\n",
       "    <tr>\n",
       "      <th>3096</th>\n",
       "      <td>3</td>\n",
       "      <td>1</td>\n",
       "      <td>0</td>\n",
       "      <td>7400000</td>\n",
       "      <td>18500000</td>\n",
       "      <td>8</td>\n",
       "      <td>818</td>\n",
       "      <td>10400000</td>\n",
       "      <td>8800000</td>\n",
       "      <td>28000000</td>\n",
       "      <td>8400000</td>\n",
       "    </tr>\n",
       "  </tbody>\n",
       "</table>\n",
       "<p>854 rows × 11 columns</p>\n",
       "</div>"
      ],
      "text/plain": [
       "      no_of_dependents  education  self_employed  income_annum  loan_amount  \\\n",
       "790                  5          0              1       4600000     14500000   \n",
       "188                  5          0              1       7300000     23300000   \n",
       "2761                 4          0              0       7900000     25700000   \n",
       "2857                 4          1              1       5600000     13000000   \n",
       "2403                 1          0              0       9300000     27500000   \n",
       "...                ...        ...            ...           ...          ...   \n",
       "618                  3          0              1       2000000      6900000   \n",
       "2610                 1          1              1       5800000     13000000   \n",
       "3176                 4          0              1       3100000      8200000   \n",
       "2917                 2          1              0       1700000      5700000   \n",
       "3096                 3          1              0       7400000     18500000   \n",
       "\n",
       "      loan_term  cibil_score  residential_assets_value  \\\n",
       "790          14          561                   2300000   \n",
       "188           6          622                   7100000   \n",
       "2761         18          589                   4300000   \n",
       "2857          4          899                  10500000   \n",
       "2403          6          364                  12200000   \n",
       "...         ...          ...                       ...   \n",
       "618           6          834                   2200000   \n",
       "2610         12          862                  11300000   \n",
       "3176         18          408                   2900000   \n",
       "2917         10          602                   4900000   \n",
       "3096          8          818                  10400000   \n",
       "\n",
       "      commercial_assets_value  luxury_assets_value  bank_asset_value  \n",
       "790                   6200000             10200000           5800000  \n",
       "188                  11600000             26400000          10500000  \n",
       "2761                   300000             25300000           9800000  \n",
       "2857                  9100000             11400000           6400000  \n",
       "2403                 13800000             25300000          10800000  \n",
       "...                       ...                  ...               ...  \n",
       "618                   2800000              6400000           3000000  \n",
       "2610                  8400000             12000000           3900000  \n",
       "3176                  3800000             10800000           3100000  \n",
       "2917                  2700000              4500000           1800000  \n",
       "3096                  8800000             28000000           8400000  \n",
       "\n",
       "[854 rows x 11 columns]"
      ]
     },
     "execution_count": 47,
     "metadata": {},
     "output_type": "execute_result"
    }
   ],
   "source": [
    "x_test"
   ]
  },
  {
   "cell_type": "code",
   "execution_count": 48,
   "id": "b5bf1d8f",
   "metadata": {
    "execution": {
     "iopub.execute_input": "2024-12-07T05:01:56.791870Z",
     "iopub.status.busy": "2024-12-07T05:01:56.791110Z",
     "iopub.status.idle": "2024-12-07T05:01:56.801309Z",
     "shell.execute_reply": "2024-12-07T05:01:56.800288Z"
    },
    "id": "LSiAOdOHTvni",
    "outputId": "5dc03ba7-a80e-493c-e04f-91aa02b22111",
    "papermill": {
     "duration": 0.04407,
     "end_time": "2024-12-07T05:01:56.803444",
     "exception": false,
     "start_time": "2024-12-07T05:01:56.759374",
     "status": "completed"
    },
    "tags": []
   },
   "outputs": [
    {
     "data": {
      "text/plain": [
       "790     1\n",
       "188     1\n",
       "2761    1\n",
       "2857    1\n",
       "2403    0\n",
       "       ..\n",
       "618     1\n",
       "2610    1\n",
       "3176    0\n",
       "2917    1\n",
       "3096    1\n",
       "Name:  loan_status, Length: 854, dtype: int64"
      ]
     },
     "execution_count": 48,
     "metadata": {},
     "output_type": "execute_result"
    }
   ],
   "source": [
    "y_test"
   ]
  },
  {
   "cell_type": "code",
   "execution_count": 49,
   "id": "785629c2",
   "metadata": {
    "execution": {
     "iopub.execute_input": "2024-12-07T05:01:56.864738Z",
     "iopub.status.busy": "2024-12-07T05:01:56.864373Z",
     "iopub.status.idle": "2024-12-07T05:01:56.875146Z",
     "shell.execute_reply": "2024-12-07T05:01:56.874091Z"
    },
    "id": "KR4AnVXpxzfq",
    "outputId": "c20e04fb-66a0-4cde-efa1-84cfcd8bbc3f",
    "papermill": {
     "duration": 0.04437,
     "end_time": "2024-12-07T05:01:56.877543",
     "exception": false,
     "start_time": "2024-12-07T05:01:56.833173",
     "status": "completed"
    },
    "tags": []
   },
   "outputs": [
    {
     "name": "stdout",
     "output_type": "stream",
     "text": [
      "[1]\n"
     ]
    }
   ],
   "source": [
    "input_data=(4,\t1,\t1,\t7200000,\t23100000,\t14,\t644,\t13300000,\t3500000,\t18300000,\t4200000)\n",
    "\n",
    "input_data_as_numpy_array=np.asarray(input_data)\n",
    "\n",
    "input_data_reshaped=input_data_as_numpy_array.reshape(1,-1)\n",
    "\n",
    "# std_data= scaler.transform(input_data_reshaped)\n",
    "\n",
    "prediction=model.predict(input_data_reshaped)\n",
    "\n",
    "print(prediction)"
   ]
  },
  {
   "cell_type": "code",
   "execution_count": 50,
   "id": "bf21464f",
   "metadata": {
    "execution": {
     "iopub.execute_input": "2024-12-07T05:01:56.938984Z",
     "iopub.status.busy": "2024-12-07T05:01:56.938552Z",
     "iopub.status.idle": "2024-12-07T05:01:56.947346Z",
     "shell.execute_reply": "2024-12-07T05:01:56.946175Z"
    },
    "id": "3yCqscJVbnD_",
    "outputId": "28732e61-f2d4-4ae7-a95b-47338858ffa6",
    "papermill": {
     "duration": 0.041732,
     "end_time": "2024-12-07T05:01:56.949455",
     "exception": false,
     "start_time": "2024-12-07T05:01:56.907723",
     "status": "completed"
    },
    "tags": []
   },
   "outputs": [
    {
     "name": "stdout",
     "output_type": "stream",
     "text": [
      "[0]\n"
     ]
    }
   ],
   "source": [
    "input_data=(1,\t0,\t0,\t9300000,\t27500000,\t6,\t364,\t12200000,\t13800000,\t25300000,\t10800000)\n",
    "\n",
    "input_data_as_numpy_array=np.asarray(input_data)\n",
    "\n",
    "input_data_reshaped=input_data_as_numpy_array.reshape(1,-1)\n",
    "\n",
    "# std_data= scaler.transform(input_data_reshaped)\n",
    "\n",
    "prediction=model.predict(input_data_reshaped)\n",
    "\n",
    "print(prediction)"
   ]
  },
  {
   "cell_type": "markdown",
   "id": "ab4a70f1",
   "metadata": {
    "id": "wLBxqWN4cePf",
    "papermill": {
     "duration": 0.029328,
     "end_time": "2024-12-07T05:01:57.008531",
     "exception": false,
     "start_time": "2024-12-07T05:01:56.979203",
     "status": "completed"
    },
    "tags": []
   },
   "source": [
    "# **Documentation and Reporting**\n",
    "\n",
    "\n",
    "## **Loan Approval Prediction Dataset Project Reoprt**\n",
    "**1. Problem Statement:**\n",
    "\n",
    "- The Dataset is a collection of financial records and associated information used to determine the eligibility of individuals or organizations for obtaining loans from a lending institution.\n",
    "-\n",
    "The primary objective is to build a model that accurately predicts the Loan approval based on its features.\n",
    "\n",
    "**2.Libraries:**\n",
    "- import required Libraries.\n",
    "\n",
    "**3. Data Understanding:**\n",
    "- The dataset has 4269 rows & 13 columns..\n",
    "- Features include:loan_id,\tno_of_dependents,\teducation,\tself_employed,income_annum,\tloan_amount,\tloan_term,\tcibil_score,\tresidential_assets_value,\tcommercial_assets_value,\tluxury_assets_value,\tbank_asset_value &\tloan_status.\n",
    "\n",
    "- There is no Null values(Missing values) in the Dataset.\n",
    "- There is no Duplicated rows in the Dataset.\n",
    "- Columns education,self_employed & loan_status are object variables. And other variables are numerical variables.\n",
    "\n",
    "**4. Data Cleanig & Feature Engineering:**\n",
    "-  Dropped Column 'loan_id'\n",
    "\n",
    "**5. Data Visualization:**\n",
    "- Histogram were created for entire dataset to understand their distribution.\n",
    "- Pie chart created for loan_status, education,\tself_employed & no_of_dependents to understand their percent for each value.\n",
    "- kdeplot created for income_annum,\tloan_amount, residential_assets_value,\tcommercial_assets_value,\tluxury_assets_value &\tbank_asset_value to understand their distribution & skewness.\n",
    "\n",
    "**6.Encoding**\n",
    "- Change the data type of columns education\tself_employed & loan_status for object into intiger using replace method.\n",
    "\n",
    "**7. Correlation Analysis:**\n",
    "- Correlation Analysis: a heatmap of the correlation matrix revealed the relationships between the variables.\n",
    "\n",
    "**8. Feature Selection**\n",
    "- Target column stored in y variable.\n",
    "- Other features stored in x variable.\n",
    "\n",
    "**9. Data Splitting**\n",
    "- split x_train, x_test, y_train and y_test.\n",
    "\n",
    "**10. Initial Modeling & Hypothesis Testing:**\n",
    "\n",
    "-- Multiple Classification models were tested:-\n",
    "* LogisticRegression()\n",
    "* DecisionTreeClassifier()\n",
    "* RandomForestClassifier()\n",
    "* XGBClassifier()\n",
    "* LGBMClassifier()\n",
    "* CatBoostClassifier(verbose=0)\n",
    "* SVC(probability=True)\n",
    "* KNeighborsClassifier()\n",
    "* GaussianNB()\n",
    "* MLPClassifier()\n",
    "* AdaBoostClassifier()\n",
    "* ExtraTreesClassifier()\n",
    "\n",
    "--  **LGBMClassifier** has given the best result.And it was chosen as the final model.\n",
    "\n",
    "**11.Model Generation:**\n",
    "-- Evaluation metrics included CV Accuracy\t, Test Accuracy , Precision ,\tRecall , F1 Score ,\tROC-AUC &\tConfusion Matrix.\n",
    "\n",
    "* CV Accuracy : 0.985066\n",
    "* Test Accuracy : 0.987119\n",
    "*\tPrecision :\t0.984991\n",
    "*\tRecall : 0.988636\n",
    "*\tF1 Score :\t0.985836\n",
    "*\tROC-AUC :\t0.998031\n",
    "*\tConfusion Matrix :\t[317, 9, 6, 522]\n",
    "\n",
    "**12.Prediction**\n",
    "- Try prediction.And the prediction is amazing.\n",
    "\n",
    "**THANK YOU**"
   ]
  },
  {
   "cell_type": "code",
   "execution_count": null,
   "id": "e82193a2",
   "metadata": {
    "id": "L9V165muoQbO",
    "papermill": {
     "duration": 0.030726,
     "end_time": "2024-12-07T05:01:57.069918",
     "exception": false,
     "start_time": "2024-12-07T05:01:57.039192",
     "status": "completed"
    },
    "tags": []
   },
   "outputs": [],
   "source": []
  }
 ],
 "metadata": {
  "colab": {
   "provenance": [],
   "toc_visible": true
  },
  "kaggle": {
   "accelerator": "none",
   "dataSources": [
    {
     "datasetId": 3523739,
     "sourceId": 6144787,
     "sourceType": "datasetVersion"
    }
   ],
   "dockerImageVersionId": 30786,
   "isGpuEnabled": false,
   "isInternetEnabled": false,
   "language": "python",
   "sourceType": "notebook"
  },
  "kernelspec": {
   "display_name": "Python 3",
   "language": "python",
   "name": "python3"
  },
  "language_info": {
   "codemirror_mode": {
    "name": "ipython",
    "version": 3
   },
   "file_extension": ".py",
   "mimetype": "text/x-python",
   "name": "python",
   "nbconvert_exporter": "python",
   "pygments_lexer": "ipython3",
   "version": "3.10.14"
  },
  "papermill": {
   "default_parameters": {},
   "duration": 43.393699,
   "end_time": "2024-12-07T05:01:57.921854",
   "environment_variables": {},
   "exception": null,
   "input_path": "__notebook__.ipynb",
   "output_path": "__notebook__.ipynb",
   "parameters": {},
   "start_time": "2024-12-07T05:01:14.528155",
   "version": "2.6.0"
  }
 },
 "nbformat": 4,
 "nbformat_minor": 5
}
